{
  "cells": [
    {
      "cell_type": "markdown",
      "metadata": {},
      "source": [
        "[![Open in Colab](https://colab.research.google.com/assets/colab-badge.svg)](https://colab.research.google.com/github/alvaro-francisco-gil/nn4nlp/blob/main/exercises/04_transformers_and_contextuals.ipynb) \n",
        "[![View on GitHub](https://img.shields.io/badge/Open%20on-GitHub-blue?logo=github)](https://github.com/alvaro-francisco-gil/nn4nlp/blob/main/exercises/04_transformers_and_contextuals.ipynb)\n",
        "\n"
      ]
    },
    {
      "cell_type": "markdown",
      "metadata": {},
      "source": [
        "If you are running this notebook in Google Colab, you can install the required packages by running the following cell:\n"
      ]
    },
    {
      "cell_type": "code",
      "execution_count": 1,
      "metadata": {},
      "outputs": [],
      "source": [
        "# !pip install torch transformers pandas numpy seaborn matplotlib"
      ]
    },
    {
      "cell_type": "code",
      "execution_count": 2,
      "metadata": {
        "colab": {
          "base_uri": "https://localhost:8080/"
        },
        "id": "S4ld2bWB62Wm",
        "outputId": "b55083a9-4d72-4d37-d172-835a30e2b6ac"
      },
      "outputs": [
        {
          "name": "stdout",
          "output_type": "stream",
          "text": [
            "Using device: cuda\n"
          ]
        }
      ],
      "source": [
        "import re\n",
        "import matplotlib.pyplot as plt\n",
        "import numpy as np\n",
        "import pandas as pd\n",
        "import seaborn as sns\n",
        "from torch.optim import AdamW\n",
        "import time\n",
        "from tqdm import tqdm\n",
        "from collections import Counter\n",
        "\n",
        "import torch\n",
        "import torch.nn as nn\n",
        "from torch.utils.data import TensorDataset, DataLoader\n",
        "from sklearn.model_selection import train_test_split\n",
        "from sklearn.metrics import accuracy_score, classification_report\n",
        "from transformers import (\n",
        "    BertForSequenceClassification,\n",
        "    XLNetForSequenceClassification,\n",
        "    get_linear_schedule_with_warmup,\n",
        "    AutoTokenizer\n",
        ")\n",
        "\n",
        "# Set device\n",
        "device = torch.device(\"cuda\" if torch.cuda.is_available() else \"cpu\")\n",
        "print(f\"Using device: {device}\")"
      ]
    },
    {
      "cell_type": "markdown",
      "metadata": {
        "id": "GInQXNpm-p4E"
      },
      "source": [
        "# Analyze Data"
      ]
    },
    {
      "cell_type": "code",
      "execution_count": 3,
      "metadata": {
        "colab": {
          "base_uri": "https://localhost:8080/",
          "height": 206
        },
        "id": "g_GhTMQ-6w_W",
        "outputId": "2fc6950b-f7b9-4714-ef56-29d6a79c350c"
      },
      "outputs": [
        {
          "data": {
            "text/html": [
              "<div>\n",
              "<style scoped>\n",
              "    .dataframe tbody tr th:only-of-type {\n",
              "        vertical-align: middle;\n",
              "    }\n",
              "\n",
              "    .dataframe tbody tr th {\n",
              "        vertical-align: top;\n",
              "    }\n",
              "\n",
              "    .dataframe thead th {\n",
              "        text-align: right;\n",
              "    }\n",
              "</style>\n",
              "<table border=\"1\" class=\"dataframe\">\n",
              "  <thead>\n",
              "    <tr style=\"text-align: right;\">\n",
              "      <th></th>\n",
              "      <th>id</th>\n",
              "      <th>review</th>\n",
              "      <th>sentiment</th>\n",
              "    </tr>\n",
              "  </thead>\n",
              "  <tbody>\n",
              "    <tr>\n",
              "      <th>0</th>\n",
              "      <td>17527</td>\n",
              "      <td>People tried to make me believe that the premi...</td>\n",
              "      <td>negative</td>\n",
              "    </tr>\n",
              "    <tr>\n",
              "      <th>1</th>\n",
              "      <td>24155</td>\n",
              "      <td>I have been wanting to see cut since the day i...</td>\n",
              "      <td>positive</td>\n",
              "    </tr>\n",
              "    <tr>\n",
              "      <th>2</th>\n",
              "      <td>21972</td>\n",
              "      <td>This movie is terrible. The suspense is spent ...</td>\n",
              "      <td>negative</td>\n",
              "    </tr>\n",
              "    <tr>\n",
              "      <th>3</th>\n",
              "      <td>4565</td>\n",
              "      <td>I hope she can keep acting and directing. She'...</td>\n",
              "      <td>positive</td>\n",
              "    </tr>\n",
              "    <tr>\n",
              "      <th>4</th>\n",
              "      <td>22098</td>\n",
              "      <td>I fell in love with this silent action drama. ...</td>\n",
              "      <td>positive</td>\n",
              "    </tr>\n",
              "  </tbody>\n",
              "</table>\n",
              "</div>"
            ],
            "text/plain": [
              "      id                                             review sentiment\n",
              "0  17527  People tried to make me believe that the premi...  negative\n",
              "1  24155  I have been wanting to see cut since the day i...  positive\n",
              "2  21972  This movie is terrible. The suspense is spent ...  negative\n",
              "3   4565  I hope she can keep acting and directing. She'...  positive\n",
              "4  22098  I fell in love with this silent action drama. ...  positive"
            ]
          },
          "execution_count": 3,
          "metadata": {},
          "output_type": "execute_result"
        }
      ],
      "source": [
        "train_file = '../data/train_reviews.csv'\n",
        "df = pd.read_csv(train_file)\n",
        "df.head()"
      ]
    },
    {
      "cell_type": "code",
      "execution_count": 4,
      "metadata": {
        "colab": {
          "base_uri": "https://localhost:8080/"
        },
        "id": "hV35vmkE7G2I",
        "outputId": "89945ae1-81d3-4e1e-d094-92b62262eb02"
      },
      "outputs": [
        {
          "data": {
            "text/plain": [
              "(8000, 3)"
            ]
          },
          "execution_count": 4,
          "metadata": {},
          "output_type": "execute_result"
        }
      ],
      "source": [
        "df.shape"
      ]
    },
    {
      "cell_type": "code",
      "execution_count": 5,
      "metadata": {
        "colab": {
          "base_uri": "https://localhost:8080/",
          "height": 206
        },
        "id": "qUv5lIdV7IfI",
        "outputId": "336080f8-eadc-4474-b6c4-92b90097aae2"
      },
      "outputs": [
        {
          "data": {
            "text/html": [
              "<div>\n",
              "<style scoped>\n",
              "    .dataframe tbody tr th:only-of-type {\n",
              "        vertical-align: middle;\n",
              "    }\n",
              "\n",
              "    .dataframe tbody tr th {\n",
              "        vertical-align: top;\n",
              "    }\n",
              "\n",
              "    .dataframe thead th {\n",
              "        text-align: right;\n",
              "    }\n",
              "</style>\n",
              "<table border=\"1\" class=\"dataframe\">\n",
              "  <thead>\n",
              "    <tr style=\"text-align: right;\">\n",
              "      <th></th>\n",
              "      <th>id</th>\n",
              "      <th>review</th>\n",
              "      <th>sentiment</th>\n",
              "    </tr>\n",
              "  </thead>\n",
              "  <tbody>\n",
              "    <tr>\n",
              "      <th>0</th>\n",
              "      <td>6666</td>\n",
              "      <td>Movies about dinosaurs can be entertaining. So...</td>\n",
              "      <td>negative</td>\n",
              "    </tr>\n",
              "    <tr>\n",
              "      <th>1</th>\n",
              "      <td>23267</td>\n",
              "      <td>If it's action and adventure you want in a mov...</td>\n",
              "      <td>positive</td>\n",
              "    </tr>\n",
              "    <tr>\n",
              "      <th>2</th>\n",
              "      <td>2897</td>\n",
              "      <td>Barbra Streisand is a tour de force in this Ho...</td>\n",
              "      <td>positive</td>\n",
              "    </tr>\n",
              "    <tr>\n",
              "      <th>3</th>\n",
              "      <td>23177</td>\n",
              "      <td>I borrowed this movie despite its extremely lo...</td>\n",
              "      <td>positive</td>\n",
              "    </tr>\n",
              "    <tr>\n",
              "      <th>4</th>\n",
              "      <td>14171</td>\n",
              "      <td>\"Baby Face\" is a precode melodrama starring a ...</td>\n",
              "      <td>positive</td>\n",
              "    </tr>\n",
              "  </tbody>\n",
              "</table>\n",
              "</div>"
            ],
            "text/plain": [
              "      id                                             review sentiment\n",
              "0   6666  Movies about dinosaurs can be entertaining. So...  negative\n",
              "1  23267  If it's action and adventure you want in a mov...  positive\n",
              "2   2897  Barbra Streisand is a tour de force in this Ho...  positive\n",
              "3  23177  I borrowed this movie despite its extremely lo...  positive\n",
              "4  14171  \"Baby Face\" is a precode melodrama starring a ...  positive"
            ]
          },
          "execution_count": 5,
          "metadata": {},
          "output_type": "execute_result"
        }
      ],
      "source": [
        "test_file = '../data/test_reviews.csv'\n",
        "test_df = pd.read_csv(test_file)\n",
        "test_df.head()"
      ]
    },
    {
      "cell_type": "code",
      "execution_count": 6,
      "metadata": {
        "colab": {
          "base_uri": "https://localhost:8080/"
        },
        "id": "sjhniwj77O6l",
        "outputId": "3ce0ff65-f23f-4074-f7d1-bc752ff7ac23"
      },
      "outputs": [
        {
          "data": {
            "text/plain": [
              "(2000, 3)"
            ]
          },
          "execution_count": 6,
          "metadata": {},
          "output_type": "execute_result"
        }
      ],
      "source": [
        "test_df.shape"
      ]
    },
    {
      "cell_type": "markdown",
      "metadata": {
        "id": "8SmJ2M5Nr7ML"
      },
      "source": [
        "## Check class balance"
      ]
    },
    {
      "cell_type": "code",
      "execution_count": 7,
      "metadata": {
        "colab": {
          "base_uri": "https://localhost:8080/",
          "height": 178
        },
        "id": "hlJgktQ3sChs",
        "outputId": "f4d7aefb-17da-4480-eb27-55c6796db9b8"
      },
      "outputs": [
        {
          "data": {
            "text/plain": [
              "sentiment\n",
              "positive    4012\n",
              "negative    3988\n",
              "Name: count, dtype: int64"
            ]
          },
          "execution_count": 7,
          "metadata": {},
          "output_type": "execute_result"
        }
      ],
      "source": [
        "df.value_counts('sentiment')"
      ]
    },
    {
      "cell_type": "code",
      "execution_count": 8,
      "metadata": {
        "colab": {
          "base_uri": "https://localhost:8080/",
          "height": 178
        },
        "id": "Qn_Gnf9TsGDC",
        "outputId": "c0dff444-d590-4493-fea4-85fdd8819b90"
      },
      "outputs": [
        {
          "data": {
            "text/plain": [
              "sentiment\n",
              "negative    1025\n",
              "positive     975\n",
              "Name: count, dtype: int64"
            ]
          },
          "execution_count": 8,
          "metadata": {},
          "output_type": "execute_result"
        }
      ],
      "source": [
        "test_df.value_counts('sentiment')"
      ]
    },
    {
      "cell_type": "markdown",
      "metadata": {
        "id": "qtI-rrXGsJ9L"
      },
      "source": [
        "Both classes are balanced"
      ]
    },
    {
      "cell_type": "markdown",
      "metadata": {
        "id": "bucYFby-_L_a"
      },
      "source": [
        "## Check missing values"
      ]
    },
    {
      "cell_type": "code",
      "execution_count": 9,
      "metadata": {
        "colab": {
          "base_uri": "https://localhost:8080/",
          "height": 178
        },
        "id": "DyFxsqgH-7Xd",
        "outputId": "97615e2f-4433-4423-bebe-f1f919728784"
      },
      "outputs": [
        {
          "data": {
            "text/plain": [
              "id           0\n",
              "review       0\n",
              "sentiment    0\n",
              "dtype: int64"
            ]
          },
          "execution_count": 9,
          "metadata": {},
          "output_type": "execute_result"
        }
      ],
      "source": [
        "df.isna().sum()\n"
      ]
    },
    {
      "cell_type": "code",
      "execution_count": 10,
      "metadata": {
        "colab": {
          "base_uri": "https://localhost:8080/",
          "height": 178
        },
        "id": "l26Hgdj5_AUr",
        "outputId": "899cbdef-3851-4d76-a305-057e685ac702"
      },
      "outputs": [
        {
          "data": {
            "text/plain": [
              "id           0\n",
              "review       0\n",
              "sentiment    0\n",
              "dtype: int64"
            ]
          },
          "execution_count": 10,
          "metadata": {},
          "output_type": "execute_result"
        }
      ],
      "source": [
        "test_df.isna().sum()"
      ]
    },
    {
      "cell_type": "markdown",
      "metadata": {
        "id": "-jaT8OEQ_RCY"
      },
      "source": [
        "## Visual Inspection"
      ]
    },
    {
      "cell_type": "code",
      "execution_count": 11,
      "metadata": {
        "colab": {
          "base_uri": "https://localhost:8080/",
          "height": 91
        },
        "id": "FFokHF407URm",
        "outputId": "937c90e4-2399-4314-a747-8851280f78c3"
      },
      "outputs": [
        {
          "data": {
            "text/plain": [
              "\"I have been wanting to see cut since the day i have heard of it, which was sometime last year. Anyway i got to see today, and when the movie started i thought that it started rather week but it got better after 10 mins or so. I thought that the movie was pretty good. but the thing i didn't like was how the killer was created, i was thinking just before i rented that it would probably suck just like Urban legends: final cut, i almost died it. mostly everything in UL final cut needed to be improved. CUT is 100 times better than UL:final cut. The best part of CUT is the killer and the death scenes. The killer kicks MO F***ING ASS.<br /><br />i give cut a 8 out of 10\""
            ]
          },
          "execution_count": 11,
          "metadata": {},
          "output_type": "execute_result"
        }
      ],
      "source": [
        "df.iloc[1]['review']"
      ]
    },
    {
      "cell_type": "code",
      "execution_count": 12,
      "metadata": {
        "colab": {
          "base_uri": "https://localhost:8080/",
          "height": 55
        },
        "id": "AF6OaAAm7nbh",
        "outputId": "83e6d147-2d4b-48f1-c4da-27d6560d285f"
      },
      "outputs": [
        {
          "data": {
            "text/plain": [
              "'This movie is terrible. The suspense is spent waiting for a point. There isn\\'t much of one.<br /><br />Aside from a few great lines ( \"I found a tooth in my apartment\" ), and the main characters dedication to killing himself, it\\'s a collection of supposedly eerie sounds.<br /><br />'"
            ]
          },
          "execution_count": 12,
          "metadata": {},
          "output_type": "execute_result"
        }
      ],
      "source": [
        "df.iloc[2]['review']"
      ]
    },
    {
      "cell_type": "markdown",
      "metadata": {
        "id": "GNCdiwQ7_jms"
      },
      "source": [
        "Insigths:\n",
        "- Need to remove HTML labels"
      ]
    },
    {
      "cell_type": "markdown",
      "metadata": {
        "id": "CRmirT7CAOWs"
      },
      "source": [
        "## Word Histogram"
      ]
    },
    {
      "cell_type": "code",
      "execution_count": 13,
      "metadata": {
        "id": "aIssCT1zAQhj"
      },
      "outputs": [],
      "source": [
        "def plot_word_histogram(text_array):\n",
        "    # Convert input to a flat list of strings\n",
        "    if isinstance(text_array, str):\n",
        "        # If it's a single string, convert to list\n",
        "        text_array = [text_array]\n",
        "    elif isinstance(text_array, list):\n",
        "        # Flatten nested lists and ensure all elements are strings\n",
        "        flattened = []\n",
        "        for item in text_array:\n",
        "            if isinstance(item, list):\n",
        "                flattened.extend(item)\n",
        "            else:\n",
        "                flattened.append(item)\n",
        "        text_array = [str(item) for item in flattened]\n",
        "    else:\n",
        "        raise ValueError(\"Input must be a string or a list of strings.\")\n",
        "\n",
        "    # Join all text into one string\n",
        "    all_text = ' '.join(text_array)\n",
        "\n",
        "    # Tokenize words by splitting on whitespace\n",
        "    words = all_text.split()\n",
        "\n",
        "    # Count word frequencies\n",
        "    word_counts = Counter(words)\n",
        "    labels, values = zip(*word_counts.items())\n",
        "\n",
        "    # Sort by frequency in descending order\n",
        "    sorted_indices = np.argsort(values)[::-1]\n",
        "    labels = np.array(labels)[sorted_indices]\n",
        "    values = np.array(values)[sorted_indices]\n",
        "\n",
        "    # Plot the histogram for the top 10 most frequent words\n",
        "    plt.figure(figsize=(10, 6))\n",
        "    plt.bar(labels[:10], values[:10], color='skyblue')\n",
        "    plt.xticks(rotation=45, ha='right')\n",
        "    plt.title('Top 10 Most Frequent Words')\n",
        "    plt.xlabel('Words')\n",
        "    plt.ylabel('Frequency')\n",
        "    plt.tight_layout()\n",
        "    plt.show()"
      ]
    },
    {
      "cell_type": "code",
      "execution_count": 14,
      "metadata": {
        "colab": {
          "base_uri": "https://localhost:8080/",
          "height": 607
        },
        "id": "Ya0LvKbeAkc0",
        "outputId": "d5712a18-42d5-4742-ebee-033ec463e56d"
      },
      "outputs": [
        {
          "data": {
            "image/png": "[encoded data removed]",
            "text/plain": [
              "<Figure size 1000x600 with 1 Axes>"
            ]
          },
          "metadata": {},
          "output_type": "display_data"
        }
      ],
      "source": [
        "plot_word_histogram(df['review'].to_list())"
      ]
    },
    {
      "cell_type": "markdown",
      "metadata": {
        "id": "LwkQJ8yVA7ja"
      },
      "source": [
        "# Pre-processing"
      ]
    },
    {
      "cell_type": "markdown",
      "metadata": {},
      "source": [
        "In this case, minimal preprocessing is required since the BERT tokenizer will handle most of the preprocessing tasks."
      ]
    },
    {
      "cell_type": "code",
      "execution_count": 15,
      "metadata": {
        "colab": {
          "base_uri": "https://localhost:8080/"
        },
        "id": "2-gJGFb3A9h-",
        "outputId": "d4fb090b-9e61-4bfe-e26b-1dff75c50099"
      },
      "outputs": [
        {
          "data": {
            "text/plain": [
              "(10000,)"
            ]
          },
          "execution_count": 15,
          "metadata": {},
          "output_type": "execute_result"
        }
      ],
      "source": [
        "data = np.concatenate([df['review'].values,test_df['review'].values],axis=0)\n",
        "raw_data = data\n",
        "data.shape"
      ]
    },
    {
      "cell_type": "markdown",
      "metadata": {
        "id": "IZiGdCAfBlnX"
      },
      "source": [
        "## Remove HTML labels"
      ]
    },
    {
      "cell_type": "code",
      "execution_count": 16,
      "metadata": {
        "id": "bGNeZtxlBi8g"
      },
      "outputs": [],
      "source": [
        "def clean_htmls_text_array(text_array):\n",
        "\n",
        "    def remove_html_tags(text):\n",
        "        pattern = re.compile('<.*?>')\n",
        "        clean_text = re.sub(pattern, '', text)\n",
        "        clean_text = ' '.join(clean_text.split())\n",
        "        return clean_text\n",
        "\n",
        "    cleaned_array = [remove_html_tags(text) for text in text_array]\n",
        "\n",
        "    return cleaned_array"
      ]
    },
    {
      "cell_type": "code",
      "execution_count": 17,
      "metadata": {
        "colab": {
          "base_uri": "https://localhost:8080/",
          "height": 36
        },
        "id": "3kCaTiK2B-IM",
        "outputId": "f91af580-4a2e-465c-8604-1f579a3fc12e"
      },
      "outputs": [
        {
          "data": {
            "text/plain": [
              "'ASS.<br /><br />i give cut a 8 out of 10'"
            ]
          },
          "execution_count": 17,
          "metadata": {},
          "output_type": "execute_result"
        }
      ],
      "source": [
        "data[1][-40:]"
      ]
    },
    {
      "cell_type": "code",
      "execution_count": 18,
      "metadata": {
        "id": "57XDTN-MBqEI"
      },
      "outputs": [],
      "source": [
        "data = clean_htmls_text_array(data)"
      ]
    },
    {
      "cell_type": "code",
      "execution_count": 19,
      "metadata": {
        "colab": {
          "base_uri": "https://localhost:8080/",
          "height": 36
        },
        "id": "K-n00afDDMZk",
        "outputId": "caa6cddf-b7be-426d-c620-f486f5554598"
      },
      "outputs": [
        {
          "data": {
            "text/plain": [
              "' MO F***ING ASS.i give cut a 8 out of 10'"
            ]
          },
          "execution_count": 19,
          "metadata": {},
          "output_type": "execute_result"
        }
      ],
      "source": [
        "data[1][-40:]"
      ]
    },
    {
      "cell_type": "markdown",
      "metadata": {},
      "source": [
        "## Retain numbers"
      ]
    },
    {
      "cell_type": "markdown",
      "metadata": {
        "id": "j0KD3mDtEDHi"
      },
      "source": [
        "I don't want to remove the numbers as they may contain valuable information for the classifier, as in this case: \"8 out of 10\""
      ]
    },
    {
      "cell_type": "markdown",
      "metadata": {
        "id": "A5A3s6myFqBO"
      },
      "source": [
        "I test the hypothesis:"
      ]
    },
    {
      "cell_type": "code",
      "execution_count": 20,
      "metadata": {
        "id": "IbamfUVuENxO"
      },
      "outputs": [],
      "source": [
        "def find_term_with_context(text_array, term, context_chars=5):\n",
        "    occurrences = 0\n",
        "    occurrences_list = []\n",
        "\n",
        "    for text in text_array:\n",
        "        start = 0\n",
        "        while (start := text.find(term, start)) != -1:\n",
        "            occurrences += 1\n",
        "            context_start = max(0, start - context_chars)\n",
        "            context_end = min(len(text), start + len(term) + context_chars)\n",
        "            context = text[context_start:context_end]\n",
        "\n",
        "            occurrences_list.append(f\"...{context}...\")\n",
        "            start += len(term)\n",
        "\n",
        "    print(f\"\\nTotal occurrences of '{term}': {occurrences}\")\n",
        "    return occurrences, occurrences_list"
      ]
    },
    {
      "cell_type": "code",
      "execution_count": 21,
      "metadata": {
        "colab": {
          "base_uri": "https://localhost:8080/",
          "height": 73
        },
        "id": "WlbHafGeEa4T",
        "outputId": "33378c04-bfdc-45b5-a964-ed2cd1c7bfa1"
      },
      "outputs": [
        {
          "name": "stdout",
          "output_type": "stream",
          "text": [
            "\n",
            "Total occurrences of 'out of': 2029\n"
          ]
        },
        {
          "data": {
            "text/plain": [
              "'... a 3 out of 10, ...'"
            ]
          },
          "execution_count": 21,
          "metadata": {},
          "output_type": "execute_result"
        }
      ],
      "source": [
        "_,ocurrences = find_term_with_context(data, 'out of')\n",
        "ocurrences[1]"
      ]
    },
    {
      "cell_type": "markdown",
      "metadata": {
        "id": "-VC0VWYFt6cx"
      },
      "source": [
        "We see that 2070 reviews contain a possible explicit grade"
      ]
    },
    {
      "cell_type": "markdown",
      "metadata": {
        "id": "e0-M83k18rhP"
      },
      "source": [
        "# Splitting"
      ]
    },
    {
      "cell_type": "markdown",
      "metadata": {},
      "source": [
        "Take Labels"
      ]
    },
    {
      "cell_type": "code",
      "execution_count": 22,
      "metadata": {
        "colab": {
          "base_uri": "https://localhost:8080/"
        },
        "id": "hKUVBHA1B2XU",
        "outputId": "7c433c3a-134a-4826-9ece-39b7b3a9beda"
      },
      "outputs": [
        {
          "data": {
            "text/plain": [
              "(10000,)"
            ]
          },
          "execution_count": 22,
          "metadata": {},
          "output_type": "execute_result"
        }
      ],
      "source": [
        "combined_sentiments = np.concatenate([df['sentiment'].values, test_df['sentiment'].values])\n",
        "combined_sentiments.shape"
      ]
    },
    {
      "cell_type": "code",
      "execution_count": 23,
      "metadata": {},
      "outputs": [],
      "source": [
        "label_map = {\"positive\": 1, \"negative\": 0}\n",
        "combined_sentiments = np.array([label_map[label] for label in combined_sentiments])"
      ]
    },
    {
      "cell_type": "markdown",
      "metadata": {},
      "source": [
        "Data Splitting"
      ]
    },
    {
      "cell_type": "code",
      "execution_count": 24,
      "metadata": {},
      "outputs": [],
      "source": [
        "train_texts, test_texts = data[:8000], data[8000:]\n",
        "train_labels, test_labels = combined_sentiments[:8000], combined_sentiments[8000:]"
      ]
    },
    {
      "cell_type": "code",
      "execution_count": 25,
      "metadata": {},
      "outputs": [
        {
          "data": {
            "text/plain": [
              "numpy.int64"
            ]
          },
          "execution_count": 25,
          "metadata": {},
          "output_type": "execute_result"
        }
      ],
      "source": [
        "type(train_texts)\n",
        "type(train_labels[0])\n"
      ]
    },
    {
      "cell_type": "markdown",
      "metadata": {},
      "source": [
        "Create Validation Set"
      ]
    },
    {
      "cell_type": "code",
      "execution_count": 26,
      "metadata": {},
      "outputs": [],
      "source": [
        "train_texts, val_texts, train_labels, val_labels = train_test_split(\n",
        "    train_texts, train_labels, test_size=0.1, random_state=42\n",
        ")"
      ]
    },
    {
      "cell_type": "markdown",
      "metadata": {},
      "source": [
        "# Modelling"
      ]
    },
    {
      "cell_type": "markdown",
      "metadata": {},
      "source": [
        "The models we're going to try are BERT and XLNet\n",
        " \n",
        "We're using BERT as a baseline model since it was one of the first transformer models to achieve state-of-the-art results on many NLP tasks.\n",
        "XLNet is an advanced model that outperforms BERT on many benchmarks and is currently ranked first on the NLP Progress leaderboard for sentiment analysis (https://nlpprogress.com/english/sentiment_analysis.html).\n",
        "XLNet improves upon BERT by using a permutation-based training method that overcomes limitations of BERT's masked language modeling approach."
      ]
    },
    {
      "cell_type": "markdown",
      "metadata": {},
      "source": [
        "## Training and Validation Loop\n",
        "Purpose: This core function handles the entire training and validation process for any transformer model.\n",
        "- We need a unified training loop that can work for both BERT and XLNet to ensure fair comparison\n",
        "- The function needs to track both training and validation metrics across epochs\n",
        "- We need to capture training time to compare model efficiency\n",
        "- We use the same hyperparameters (learning rate, optimizer, etc.) for both models for fair comparison"
      ]
    },
    {
      "cell_type": "code",
      "execution_count": 27,
      "metadata": {},
      "outputs": [],
      "source": [
        "# Function for model training and evaluation\n",
        "def train_evaluate_model(model, train_dataloader, val_dataloader, epochs=10):\n",
        "    optimizer = AdamW(model.parameters(), lr=2e-5, eps=1e-8)\n",
        "    \n",
        "    # Total number of training steps\n",
        "    total_steps = len(train_dataloader) * epochs\n",
        "    \n",
        "    # Create the learning rate scheduler\n",
        "    scheduler = get_linear_schedule_with_warmup(\n",
        "        optimizer, num_warmup_steps=0, num_training_steps=total_steps\n",
        "    )\n",
        "    \n",
        "    # Training loop\n",
        "    training_stats = []\n",
        "    total_training_time = 0\n",
        "    \n",
        "    for epoch in range(epochs):\n",
        "        print(f'\\nEpoch {epoch+1}/{epochs}')\n",
        "        \n",
        "        # Training\n",
        "        model.train()\n",
        "        total_loss = 0\n",
        "        start_time = time.time()\n",
        "        \n",
        "        for batch in tqdm(train_dataloader, desc=\"Training\"):\n",
        "            batch = tuple(b.to(device) for b in batch)\n",
        "            inputs = {'input_ids': batch[0],\n",
        "                      'attention_mask': batch[1],\n",
        "                      'labels': batch[2]}\n",
        "            \n",
        "            # Clear any previously calculated gradients\n",
        "            model.zero_grad()\n",
        "            \n",
        "            # Forward pass\n",
        "            outputs = model(**inputs)\n",
        "            loss = outputs.loss\n",
        "            total_loss += loss.item()\n",
        "            \n",
        "            # Backward pass to calculate gradients\n",
        "            loss.backward()\n",
        "            \n",
        "            # Clip the norm of the gradients to 1.0 to prevent exploding gradients\n",
        "            torch.nn.utils.clip_grad_norm_(model.parameters(), 1.0)\n",
        "            \n",
        "            # Update parameters and take a step using the computed gradient\n",
        "            optimizer.step()\n",
        "            \n",
        "            # Update the learning rate\n",
        "            scheduler.step()\n",
        "        \n",
        "        epoch_time = time.time() - start_time\n",
        "        total_training_time += epoch_time\n",
        "        avg_train_loss = total_loss / len(train_dataloader)\n",
        "        \n",
        "        print(f\"Training Loss: {avg_train_loss:.4f}\")\n",
        "        print(f\"Training epoch took: {epoch_time:.4f} seconds\")\n",
        "        \n",
        "        # Validation\n",
        "        model.eval()\n",
        "        val_loss = 0\n",
        "        val_preds = []\n",
        "        val_true = []\n",
        "        \n",
        "        for batch in tqdm(val_dataloader, desc=\"Validation\"):\n",
        "            batch = tuple(b.to(device) for b in batch)\n",
        "            inputs = {'input_ids': batch[0],\n",
        "                      'attention_mask': batch[1],\n",
        "                      'labels': batch[2]}\n",
        "            \n",
        "            with torch.no_grad():\n",
        "                outputs = model(**inputs)\n",
        "            \n",
        "            loss = outputs.loss\n",
        "            val_loss += loss.item()\n",
        "            \n",
        "            logits = outputs.logits\n",
        "            preds = torch.argmax(logits, dim=1).flatten()\n",
        "            val_preds.extend(preds.cpu().numpy())\n",
        "            val_true.extend(inputs['labels'].cpu().numpy())\n",
        "        \n",
        "        avg_val_loss = val_loss / len(val_dataloader)\n",
        "        val_accuracy = accuracy_score(val_true, val_preds)\n",
        "        \n",
        "        print(f\"Validation Loss: {avg_val_loss:.4f}\")\n",
        "        print(f\"Validation Accuracy: {val_accuracy:.4f}\")\n",
        "        \n",
        "        training_stats.append({\n",
        "            'epoch': epoch + 1,\n",
        "            'train_loss': avg_train_loss,\n",
        "            'val_loss': avg_val_loss,\n",
        "            'val_accuracy': val_accuracy,\n",
        "            'epoch_time': epoch_time,\n",
        "        })\n",
        "    \n",
        "    print(f\"\\nTotal training time: {total_training_time:.4f} seconds\")\n",
        "    return training_stats"
      ]
    },
    {
      "cell_type": "markdown",
      "metadata": {},
      "source": [
        "## Evaluation Function\n",
        "Purpose: Provides standardized evaluation of model performance on unseen test data.\n",
        "- We need a consistent way to evaluate both models on the same test set\n",
        "- The function should return both the overall accuracy and detailed prediction information\n",
        "- Classification reports give a more nuanced understanding of performance across classes\n",
        "- This separated evaluation function ensures both models are tested in exactly the same way"
      ]
    },
    {
      "cell_type": "code",
      "execution_count": 28,
      "metadata": {},
      "outputs": [],
      "source": [
        "def evaluate_model(model, test_dataloader):\n",
        "    model.eval()\n",
        "    test_preds = []\n",
        "    test_true = []\n",
        "    \n",
        "    for batch in tqdm(test_dataloader, desc=\"Testing\"):\n",
        "        batch = tuple(b.to(device) for b in batch)\n",
        "        inputs = {'input_ids': batch[0],\n",
        "                  'attention_mask': batch[1],\n",
        "                  'labels': batch[2]}\n",
        "        \n",
        "        with torch.no_grad():\n",
        "            outputs = model(**inputs)\n",
        "        \n",
        "        logits = outputs.logits\n",
        "        preds = torch.argmax(logits, dim=1).flatten()\n",
        "        test_preds.extend(preds.cpu().numpy())\n",
        "        test_true.extend(inputs['labels'].cpu().numpy())\n",
        "    \n",
        "    test_accuracy = accuracy_score(test_true, test_preds)\n",
        "    print(f\"Test Accuracy: {test_accuracy:.4f}\")\n",
        "    print(\"\\nClassification Report:\")\n",
        "    print(classification_report(test_true, test_preds, target_names=['negative', 'positive']))\n",
        "    \n",
        "    return test_accuracy, test_preds"
      ]
    },
    {
      "cell_type": "markdown",
      "metadata": {},
      "source": [
        "## Plot Comparison\n",
        "Purpose: Provides standardized evaluation of model performance on unseen test data.\n",
        "- We need a consistent way to evaluate both models on the same test set\n",
        "- The function should return both the overall accuracy and detailed prediction information\n",
        "- Classification reports give a more nuanced understanding of performance across classes\n",
        "- This separated evaluation function ensures both models are tested in exactly the same way"
      ]
    },
    {
      "cell_type": "code",
      "execution_count": 29,
      "metadata": {},
      "outputs": [],
      "source": [
        "def plot_comparison(bert_stats, xlnet_stats):\n",
        "    \"\"\"Plot comparison between BERT and XLNet training metrics\"\"\"\n",
        "    epochs = range(1, len(bert_stats) + 1)\n",
        "    \n",
        "    plt.figure(figsize=(15, 5))\n",
        "    \n",
        "    # Training loss\n",
        "    plt.subplot(1, 3, 1)\n",
        "    plt.plot([s['train_loss'] for s in bert_stats], 'b-o', label='BERT')\n",
        "    plt.plot([s['train_loss'] for s in xlnet_stats], 'r-o', label='XLNet')\n",
        "    plt.title('Training Loss')\n",
        "    plt.xlabel('Epoch')\n",
        "    plt.ylabel('Loss')\n",
        "    plt.legend()\n",
        "    plt.grid(True)\n",
        "    \n",
        "    # Validation loss\n",
        "    plt.subplot(1, 3, 2)\n",
        "    plt.plot([s['val_loss'] for s in bert_stats], 'b-o', label='BERT')\n",
        "    plt.plot([s['val_loss'] for s in xlnet_stats], 'r-o', label='XLNet')\n",
        "    plt.title('Validation Loss')\n",
        "    plt.xlabel('Epoch')\n",
        "    plt.ylabel('Loss')\n",
        "    plt.legend()\n",
        "    plt.grid(True)\n",
        "    \n",
        "    # Validation accuracy\n",
        "    plt.subplot(1, 3, 3)\n",
        "    plt.plot([s['val_accuracy'] for s in bert_stats], 'b-o', label='BERT')\n",
        "    plt.plot([s['val_accuracy'] for s in xlnet_stats], 'r-o', label='XLNet')\n",
        "    plt.title('Validation Accuracy')\n",
        "    plt.xlabel('Epoch')\n",
        "    plt.ylabel('Accuracy')\n",
        "    plt.legend()\n",
        "    plt.grid(True)\n",
        "    \n",
        "    plt.tight_layout()\n",
        "    plt.savefig('bert_xlnet_comparison.png')\n",
        "    plt.show()"
      ]
    },
    {
      "cell_type": "markdown",
      "metadata": {},
      "source": [
        "## BERT Model Implementation\n",
        "Purpose: Encapsulates the complete BERT implementation workflow.\n",
        "- We need to isolate BERT-specific processing from the general training loop\n",
        "- BERT requires specific tokenization that differs from XLNet:\n",
        "  - Uses an uncased vocabulary (lowercase)\n",
        "  - Has its own tokenization rules and special tokens\n",
        "- We need sequential steps: tokenize → create datasets → create data loaders → initialize model → train → evaluate\n",
        "- Encapsulating this in a function keeps our code organized and modular"
      ]
    },
    {
      "cell_type": "code",
      "execution_count": 30,
      "metadata": {},
      "outputs": [],
      "source": [
        "def run_bert(train_texts, val_texts, test_texts, train_labels, val_labels, test_labels):\n",
        "    print(\"\\n======= Running BERT Model =======\\n\")\n",
        "    # Tokenizing with BERT\n",
        "    bert_tokenizer = AutoTokenizer.from_pretrained('bert-base-uncased')\n",
        "    \n",
        "    def tokenize_bert(texts):\n",
        "        return bert_tokenizer(\n",
        "            texts, \n",
        "            truncation=True, \n",
        "            padding='max_length', \n",
        "            max_length=128,\n",
        "            return_tensors='pt'\n",
        "        )\n",
        "    \n",
        "    # Tokenize datasets\n",
        "    train_encodings = tokenize_bert(train_texts)\n",
        "    val_encodings = tokenize_bert(val_texts)\n",
        "    test_encodings = tokenize_bert(test_texts)\n",
        "    \n",
        "    # Create dataset objects\n",
        "    train_dataset = TensorDataset(\n",
        "        train_encodings['input_ids'],\n",
        "        train_encodings['attention_mask'],\n",
        "        torch.tensor(train_labels)\n",
        "    )\n",
        "    \n",
        "    val_dataset = TensorDataset(\n",
        "        val_encodings['input_ids'],\n",
        "        val_encodings['attention_mask'],\n",
        "        torch.tensor(val_labels)\n",
        "    )\n",
        "    \n",
        "    test_dataset = TensorDataset(\n",
        "        test_encodings['input_ids'],\n",
        "        test_encodings['attention_mask'],\n",
        "        torch.tensor(test_labels)\n",
        "    )\n",
        "    \n",
        "    # Create dataloaders\n",
        "    train_dataloader = DataLoader(train_dataset, batch_size=16, shuffle=True)\n",
        "    val_dataloader = DataLoader(val_dataset, batch_size=32)\n",
        "    test_dataloader = DataLoader(test_dataset, batch_size=32)\n",
        "    \n",
        "    # Load BERT model\n",
        "    bert_model = BertForSequenceClassification.from_pretrained(\n",
        "        'bert-base-uncased',\n",
        "        num_labels=2\n",
        "    ).to(device)\n",
        "    \n",
        "    # Train and evaluate\n",
        "    bert_stats = train_evaluate_model(bert_model, train_dataloader, val_dataloader)\n",
        "    bert_accuracy, bert_preds = evaluate_model(bert_model, test_dataloader)\n",
        "    \n",
        "    return bert_accuracy, bert_stats, bert_model"
      ]
    },
    {
      "cell_type": "markdown",
      "metadata": {},
      "source": [
        "## XLNet Model Implementation\n",
        "Purpose: Encapsulates the complete XLNet implementation workflow.\n",
        "- Similar structure to the BERT function, but with XLNet-specific details\n",
        "- XLNet requires different tokenization:\n",
        "  - Uses a cased vocabulary (preserves case)\n",
        "  - Has different special tokens and formatting requirements\n",
        "- Using a parallel function structure to run_bert makes the comparison clean and fair\n",
        "- Maintaining consistency in the workflow ensures differences are due to the models, not implementation details"
      ]
    },
    {
      "cell_type": "code",
      "execution_count": 31,
      "metadata": {},
      "outputs": [],
      "source": [
        "# XLNet model implementation\n",
        "def run_xlnet(train_texts, val_texts, test_texts, train_labels, val_labels, test_labels):\n",
        "    print(\"\\n======= Running XLNet Model =======\\n\")\n",
        "    # Tokenizing with XLNet\n",
        "    xlnet_tokenizer = AutoTokenizer.from_pretrained('xlnet-base-cased')\n",
        "    \n",
        "    # XLNet has different formatting requirements\n",
        "    def tokenize_xlnet(texts):\n",
        "        return xlnet_tokenizer(\n",
        "            texts, \n",
        "            truncation=True, \n",
        "            padding='max_length', \n",
        "            max_length=128,\n",
        "            return_tensors='pt'\n",
        "        )\n",
        "    \n",
        "    # Tokenize datasets\n",
        "    train_encodings = tokenize_xlnet(train_texts)\n",
        "    val_encodings = tokenize_xlnet(val_texts)\n",
        "    test_encodings = tokenize_xlnet(test_texts)\n",
        "    \n",
        "    # Create dataset objects\n",
        "    train_dataset = TensorDataset(\n",
        "        train_encodings['input_ids'],\n",
        "        train_encodings['attention_mask'],\n",
        "        torch.tensor(train_labels)\n",
        "    )\n",
        "    \n",
        "    val_dataset = TensorDataset(\n",
        "        val_encodings['input_ids'],\n",
        "        val_encodings['attention_mask'],\n",
        "        torch.tensor(val_labels)\n",
        "    )\n",
        "    \n",
        "    test_dataset = TensorDataset(\n",
        "        test_encodings['input_ids'],\n",
        "        test_encodings['attention_mask'],\n",
        "        torch.tensor(test_labels)\n",
        "    )\n",
        "    \n",
        "    # Create dataloaders\n",
        "    train_dataloader = DataLoader(train_dataset, batch_size=16, shuffle=True)\n",
        "    val_dataloader = DataLoader(val_dataset, batch_size=32)\n",
        "    test_dataloader = DataLoader(test_dataset, batch_size=32)\n",
        "    \n",
        "    # Load XLNet model\n",
        "    xlnet_model = XLNetForSequenceClassification.from_pretrained(\n",
        "        'xlnet-base-cased',\n",
        "        num_labels=2\n",
        "    ).to(device)\n",
        "    \n",
        "    # Train and evaluate\n",
        "    xlnet_stats = train_evaluate_model(xlnet_model, train_dataloader, val_dataloader)\n",
        "    xlnet_accuracy, xlnet_preds = evaluate_model(xlnet_model, test_dataloader)\n",
        "    \n",
        "    return xlnet_accuracy, xlnet_stats, xlnet_model"
      ]
    },
    {
      "cell_type": "markdown",
      "metadata": {},
      "source": [
        "## Time Comparison Analysis\n",
        "Purpose: Provides a comprehensive comparison of training times between BERT and XLNet.\n",
        "- We need to track both total training time and per-epoch timing\n",
        "- This helps us understand the performance vs. time trade-off for each model\n",
        "- We can also calculate speedup/slowdown percentages to highlight relative efficiency\n",
        "- This analysis is crucial for understanding the practical performance of each model"
      ]
    },
    {
      "cell_type": "code",
      "execution_count": 32,
      "metadata": {},
      "outputs": [],
      "source": [
        "# Time comparison analysis\n",
        "def create_time_comparison_plots(bert_stats, xlnet_stats):\n",
        "    # Extract timing data\n",
        "    bert_times = [stat['epoch_time'] for stat in bert_stats]\n",
        "    xlnet_times = [stat['epoch_time'] for stat in xlnet_stats]\n",
        "    \n",
        "    # Calculate total times\n",
        "    bert_total = sum(bert_times)\n",
        "    xlnet_total = sum(xlnet_times)\n",
        "    \n",
        "    # Create time comparison bar chart\n",
        "    plt.figure(figsize=(12, 6))\n",
        "    \n",
        "    # Epoch-wise timing comparison\n",
        "    plt.subplot(1, 2, 1)\n",
        "    epochs = range(1, len(bert_times) + 1)\n",
        "    width = 0.35\n",
        "    \n",
        "    plt.bar([x - width/2 for x in epochs], bert_times, width, label='BERT', color='royalblue')\n",
        "    plt.bar([x + width/2 for x in epochs], xlnet_times, width, label='XLNet', color='firebrick')\n",
        "    \n",
        "    plt.xlabel('Epoch')\n",
        "    plt.ylabel('Time (seconds)')\n",
        "    plt.title('Training Time per Epoch')\n",
        "    plt.xticks(epochs)\n",
        "    plt.legend()\n",
        "    plt.grid(axis='y', linestyle='--', alpha=0.7)\n",
        "    \n",
        "    # Total time comparison\n",
        "    plt.subplot(1, 2, 2)\n",
        "    plt.bar(['BERT', 'XLNet'], [bert_total, xlnet_total], color=['royalblue', 'firebrick'])\n",
        "    plt.ylabel('Time (seconds)')\n",
        "    plt.title('Total Training Time')\n",
        "    \n",
        "    # Add values on top of the bars\n",
        "    for i, v in enumerate([bert_total, xlnet_total]):\n",
        "        plt.text(i, v + 5, f\"{v:.1f}s\", ha='center')\n",
        "    \n",
        "    plt.grid(axis='y', linestyle='--', alpha=0.7)\n",
        "    \n",
        "    # Calculate the speedup/slowdown\n",
        "    speedup = (xlnet_total - bert_total) / xlnet_total * 100 if xlnet_total > bert_total else (bert_total - xlnet_total) / bert_total * 100\n",
        "    faster_model = \"BERT\" if bert_total < xlnet_total else \"XLNet\"\n",
        "    \n",
        "    plt.figtext(0.5, 0.01, f\"{faster_model} was {speedup:.1f}% faster\", ha=\"center\", fontsize=12, bbox={\"facecolor\":\"yellow\", \"alpha\":0.5})\n",
        "    \n",
        "    plt.tight_layout()\n",
        "    plt.show()\n",
        "    \n",
        "    # Return timing info for further analysis\n",
        "    return {\n",
        "        'bert_times': bert_times,\n",
        "        'xlnet_times': xlnet_times,\n",
        "        'bert_total': bert_total,\n",
        "        'xlnet_total': xlnet_total,\n",
        "        'faster_model': faster_model,\n",
        "        'speedup_percentage': speedup\n",
        "    }\n"
      ]
    },
    {
      "cell_type": "markdown",
      "metadata": {},
      "source": [
        "## Training Time vs. Performance Analysis\n",
        "Purpose: Visualizes the relationship between training time and model performance.\n",
        "- We need to understand how training time affects model accuracy\n",
        "- This helps us identify the trade-off between training speed and model quality\n",
        "- It also allows us to compare the convergence rates of different models\n",
        "- This analysis is useful for understanding the practical performance of each model\n"
      ]
    },
    {
      "cell_type": "code",
      "execution_count": 33,
      "metadata": {},
      "outputs": [],
      "source": [
        "def plot_time_vs_performance(bert_stats, xlnet_stats, bert_accuracy, xlnet_accuracy):\n",
        "    # Calculate cumulative training time at each epoch\n",
        "    bert_cumulative_times = []\n",
        "    xlnet_cumulative_times = []\n",
        "    \n",
        "    bert_time = 0\n",
        "    xlnet_time = 0\n",
        "    \n",
        "    for i in range(len(bert_stats)):\n",
        "        bert_time += bert_stats[i]['epoch_time']\n",
        "        bert_cumulative_times.append(bert_time)\n",
        "        \n",
        "        if i < len(xlnet_stats):  # In case the number of epochs differ\n",
        "            xlnet_time += xlnet_stats[i]['epoch_time']\n",
        "            xlnet_cumulative_times.append(xlnet_time)\n",
        "    \n",
        "    # Plot accuracy vs. cumulative training time\n",
        "    plt.figure(figsize=(10, 6))\n",
        "    \n",
        "    # Plot validation accuracy vs. cumulative time\n",
        "    plt.plot(bert_cumulative_times, [s['val_accuracy'] for s in bert_stats], 'bo-', label='BERT Val Accuracy')\n",
        "    plt.plot(xlnet_cumulative_times, [s['val_accuracy'] for s in xlnet_stats], 'ro-', label='XLNet Val Accuracy')\n",
        "    \n",
        "    # Add test accuracy as endpoints\n",
        "    plt.plot(bert_cumulative_times[-1], bert_accuracy, 'bs', markersize=10, label='BERT Test Accuracy')\n",
        "    plt.plot(xlnet_cumulative_times[-1], xlnet_accuracy, 'rs', markersize=10, label='XLNet Test Accuracy')\n",
        "    \n",
        "    plt.xlabel('Cumulative Training Time (seconds)')\n",
        "    plt.ylabel('Accuracy')\n",
        "    plt.title('Accuracy vs. Training Time')\n",
        "    plt.grid(True, linestyle='--', alpha=0.7)\n",
        "    plt.legend()\n",
        "    \n",
        "    # Add annotations\n",
        "    for i, (time, acc) in enumerate(zip(bert_cumulative_times, [s['val_accuracy'] for s in bert_stats])):\n",
        "        plt.annotate(f\"Epoch {i+1}\", (time, acc), textcoords=\"offset points\", xytext=(0,10), ha='center')\n",
        "        \n",
        "    for i, (time, acc) in enumerate(zip(xlnet_cumulative_times, [s['val_accuracy'] for s in xlnet_stats])):\n",
        "        plt.annotate(f\"Epoch {i+1}\", (time, acc), textcoords=\"offset points\", xytext=(0,-15), ha='center')\n",
        "    \n",
        "    plt.tight_layout()\n",
        "    plt.show()"
      ]
    },
    {
      "cell_type": "markdown",
      "metadata": {},
      "source": [
        "# Executing the models"
      ]
    },
    {
      "cell_type": "code",
      "execution_count": 34,
      "metadata": {},
      "outputs": [
        {
          "name": "stdout",
          "output_type": "stream",
          "text": [
            "\n",
            "======= Running BERT Model =======\n",
            "\n"
          ]
        },
        {
          "name": "stderr",
          "output_type": "stream",
          "text": [
            "Some weights of BertForSequenceClassification were not initialized from the model checkpoint at bert-base-uncased and are newly initialized: ['classifier.bias', 'classifier.weight']\n",
            "You should probably TRAIN this model on a down-stream task to be able to use it for predictions and inference.\n"
          ]
        },
        {
          "name": "stdout",
          "output_type": "stream",
          "text": [
            "\n",
            "Epoch 1/10\n"
          ]
        },
        {
          "name": "stderr",
          "output_type": "stream",
          "text": [
            "Training: 100%|██████████| 450/450 [00:41<00:00, 10.98it/s]\n"
          ]
        },
        {
          "name": "stdout",
          "output_type": "stream",
          "text": [
            "Training Loss: 0.4061\n",
            "Training epoch took: 41.0034 seconds\n"
          ]
        },
        {
          "name": "stderr",
          "output_type": "stream",
          "text": [
            "Validation: 100%|██████████| 25/25 [00:01<00:00, 19.65it/s]\n"
          ]
        },
        {
          "name": "stdout",
          "output_type": "stream",
          "text": [
            "Validation Loss: 0.2971\n",
            "Validation Accuracy: 0.8625\n",
            "\n",
            "Epoch 2/10\n"
          ]
        },
        {
          "name": "stderr",
          "output_type": "stream",
          "text": [
            "Training: 100%|██████████| 450/450 [00:40<00:00, 11.03it/s]\n"
          ]
        },
        {
          "name": "stdout",
          "output_type": "stream",
          "text": [
            "Training Loss: 0.2207\n",
            "Training epoch took: 40.8091 seconds\n"
          ]
        },
        {
          "name": "stderr",
          "output_type": "stream",
          "text": [
            "Validation: 100%|██████████| 25/25 [00:01<00:00, 19.64it/s]\n"
          ]
        },
        {
          "name": "stdout",
          "output_type": "stream",
          "text": [
            "Validation Loss: 0.4460\n",
            "Validation Accuracy: 0.8650\n",
            "\n",
            "Epoch 3/10\n"
          ]
        },
        {
          "name": "stderr",
          "output_type": "stream",
          "text": [
            "Training: 100%|██████████| 450/450 [00:40<00:00, 11.02it/s]\n"
          ]
        },
        {
          "name": "stdout",
          "output_type": "stream",
          "text": [
            "Training Loss: 0.1158\n",
            "Training epoch took: 40.8438 seconds\n"
          ]
        },
        {
          "name": "stderr",
          "output_type": "stream",
          "text": [
            "Validation: 100%|██████████| 25/25 [00:01<00:00, 19.72it/s]\n"
          ]
        },
        {
          "name": "stdout",
          "output_type": "stream",
          "text": [
            "Validation Loss: 0.6591\n",
            "Validation Accuracy: 0.8675\n",
            "\n",
            "Epoch 4/10\n"
          ]
        },
        {
          "name": "stderr",
          "output_type": "stream",
          "text": [
            "Training: 100%|██████████| 450/450 [00:40<00:00, 10.99it/s]\n"
          ]
        },
        {
          "name": "stdout",
          "output_type": "stream",
          "text": [
            "Training Loss: 0.0538\n",
            "Training epoch took: 40.9425 seconds\n"
          ]
        },
        {
          "name": "stderr",
          "output_type": "stream",
          "text": [
            "Validation: 100%|██████████| 25/25 [00:01<00:00, 19.67it/s]\n"
          ]
        },
        {
          "name": "stdout",
          "output_type": "stream",
          "text": [
            "Validation Loss: 0.7239\n",
            "Validation Accuracy: 0.8688\n",
            "\n",
            "Epoch 5/10\n"
          ]
        },
        {
          "name": "stderr",
          "output_type": "stream",
          "text": [
            "Training: 100%|██████████| 450/450 [00:40<00:00, 11.01it/s]\n"
          ]
        },
        {
          "name": "stdout",
          "output_type": "stream",
          "text": [
            "Training Loss: 0.0241\n",
            "Training epoch took: 40.8782 seconds\n"
          ]
        },
        {
          "name": "stderr",
          "output_type": "stream",
          "text": [
            "Validation: 100%|██████████| 25/25 [00:01<00:00, 19.61it/s]\n"
          ]
        },
        {
          "name": "stdout",
          "output_type": "stream",
          "text": [
            "Validation Loss: 0.8112\n",
            "Validation Accuracy: 0.8700\n",
            "\n",
            "Epoch 6/10\n"
          ]
        },
        {
          "name": "stderr",
          "output_type": "stream",
          "text": [
            "Training: 100%|██████████| 450/450 [00:40<00:00, 10.98it/s]\n"
          ]
        },
        {
          "name": "stdout",
          "output_type": "stream",
          "text": [
            "Training Loss: 0.0100\n",
            "Training epoch took: 40.9967 seconds\n"
          ]
        },
        {
          "name": "stderr",
          "output_type": "stream",
          "text": [
            "Validation: 100%|██████████| 25/25 [00:01<00:00, 19.71it/s]\n"
          ]
        },
        {
          "name": "stdout",
          "output_type": "stream",
          "text": [
            "Validation Loss: 0.9731\n",
            "Validation Accuracy: 0.8688\n",
            "\n",
            "Epoch 7/10\n"
          ]
        },
        {
          "name": "stderr",
          "output_type": "stream",
          "text": [
            "Training: 100%|██████████| 450/450 [00:40<00:00, 11.02it/s]\n"
          ]
        },
        {
          "name": "stdout",
          "output_type": "stream",
          "text": [
            "Training Loss: 0.0091\n",
            "Training epoch took: 40.8221 seconds\n"
          ]
        },
        {
          "name": "stderr",
          "output_type": "stream",
          "text": [
            "Validation: 100%|██████████| 25/25 [00:01<00:00, 19.67it/s]\n"
          ]
        },
        {
          "name": "stdout",
          "output_type": "stream",
          "text": [
            "Validation Loss: 1.0002\n",
            "Validation Accuracy: 0.8725\n",
            "\n",
            "Epoch 8/10\n"
          ]
        },
        {
          "name": "stderr",
          "output_type": "stream",
          "text": [
            "Training: 100%|██████████| 450/450 [00:40<00:00, 11.01it/s]\n"
          ]
        },
        {
          "name": "stdout",
          "output_type": "stream",
          "text": [
            "Training Loss: 0.0013\n",
            "Training epoch took: 40.8699 seconds\n"
          ]
        },
        {
          "name": "stderr",
          "output_type": "stream",
          "text": [
            "Validation: 100%|██████████| 25/25 [00:01<00:00, 19.67it/s]\n"
          ]
        },
        {
          "name": "stdout",
          "output_type": "stream",
          "text": [
            "Validation Loss: 1.0510\n",
            "Validation Accuracy: 0.8712\n",
            "\n",
            "Epoch 9/10\n"
          ]
        },
        {
          "name": "stderr",
          "output_type": "stream",
          "text": [
            "Training: 100%|██████████| 450/450 [00:40<00:00, 11.02it/s]\n"
          ]
        },
        {
          "name": "stdout",
          "output_type": "stream",
          "text": [
            "Training Loss: 0.0030\n",
            "Training epoch took: 40.8244 seconds\n"
          ]
        },
        {
          "name": "stderr",
          "output_type": "stream",
          "text": [
            "Validation: 100%|██████████| 25/25 [00:01<00:00, 19.61it/s]\n"
          ]
        },
        {
          "name": "stdout",
          "output_type": "stream",
          "text": [
            "Validation Loss: 1.0783\n",
            "Validation Accuracy: 0.8738\n",
            "\n",
            "Epoch 10/10\n"
          ]
        },
        {
          "name": "stderr",
          "output_type": "stream",
          "text": [
            "Training: 100%|██████████| 450/450 [00:40<00:00, 11.02it/s]\n"
          ]
        },
        {
          "name": "stdout",
          "output_type": "stream",
          "text": [
            "Training Loss: 0.0025\n",
            "Training epoch took: 40.8429 seconds\n"
          ]
        },
        {
          "name": "stderr",
          "output_type": "stream",
          "text": [
            "Validation: 100%|██████████| 25/25 [00:01<00:00, 19.66it/s]\n"
          ]
        },
        {
          "name": "stdout",
          "output_type": "stream",
          "text": [
            "Validation Loss: 1.0854\n",
            "Validation Accuracy: 0.8738\n",
            "\n",
            "Total training time: 408.8330 seconds\n"
          ]
        },
        {
          "name": "stderr",
          "output_type": "stream",
          "text": [
            "Testing: 100%|██████████| 63/63 [00:03<00:00, 20.57it/s]\n"
          ]
        },
        {
          "name": "stdout",
          "output_type": "stream",
          "text": [
            "Test Accuracy: 0.8805\n",
            "\n",
            "Classification Report:\n",
            "              precision    recall  f1-score   support\n",
            "\n",
            "    negative       0.88      0.88      0.88      1025\n",
            "    positive       0.88      0.88      0.88       975\n",
            "\n",
            "    accuracy                           0.88      2000\n",
            "   macro avg       0.88      0.88      0.88      2000\n",
            "weighted avg       0.88      0.88      0.88      2000\n",
            "\n",
            "\n",
            "======= Running XLNet Model =======\n",
            "\n"
          ]
        },
        {
          "name": "stderr",
          "output_type": "stream",
          "text": [
            "Some weights of XLNetForSequenceClassification were not initialized from the model checkpoint at xlnet-base-cased and are newly initialized: ['logits_proj.bias', 'logits_proj.weight', 'sequence_summary.summary.bias', 'sequence_summary.summary.weight']\n",
            "You should probably TRAIN this model on a down-stream task to be able to use it for predictions and inference.\n"
          ]
        },
        {
          "name": "stdout",
          "output_type": "stream",
          "text": [
            "\n",
            "Epoch 1/10\n"
          ]
        },
        {
          "name": "stderr",
          "output_type": "stream",
          "text": [
            "Training: 100%|██████████| 450/450 [00:52<00:00,  8.65it/s]\n"
          ]
        },
        {
          "name": "stdout",
          "output_type": "stream",
          "text": [
            "Training Loss: 0.3667\n",
            "Training epoch took: 52.0323 seconds\n"
          ]
        },
        {
          "name": "stderr",
          "output_type": "stream",
          "text": [
            "Validation: 100%|██████████| 25/25 [00:01<00:00, 14.62it/s]\n"
          ]
        },
        {
          "name": "stdout",
          "output_type": "stream",
          "text": [
            "Validation Loss: 0.3390\n",
            "Validation Accuracy: 0.9012\n",
            "\n",
            "Epoch 2/10\n"
          ]
        },
        {
          "name": "stderr",
          "output_type": "stream",
          "text": [
            "Training: 100%|██████████| 450/450 [00:51<00:00,  8.69it/s]\n"
          ]
        },
        {
          "name": "stdout",
          "output_type": "stream",
          "text": [
            "Training Loss: 0.2319\n",
            "Training epoch took: 51.8113 seconds\n"
          ]
        },
        {
          "name": "stderr",
          "output_type": "stream",
          "text": [
            "Validation: 100%|██████████| 25/25 [00:01<00:00, 14.62it/s]\n"
          ]
        },
        {
          "name": "stdout",
          "output_type": "stream",
          "text": [
            "Validation Loss: 0.3013\n",
            "Validation Accuracy: 0.9012\n",
            "\n",
            "Epoch 3/10\n"
          ]
        },
        {
          "name": "stderr",
          "output_type": "stream",
          "text": [
            "Training: 100%|██████████| 450/450 [00:51<00:00,  8.68it/s]\n"
          ]
        },
        {
          "name": "stdout",
          "output_type": "stream",
          "text": [
            "Training Loss: 0.1485\n",
            "Training epoch took: 51.8533 seconds\n"
          ]
        },
        {
          "name": "stderr",
          "output_type": "stream",
          "text": [
            "Validation: 100%|██████████| 25/25 [00:01<00:00, 14.70it/s]\n"
          ]
        },
        {
          "name": "stdout",
          "output_type": "stream",
          "text": [
            "Validation Loss: 0.5365\n",
            "Validation Accuracy: 0.8812\n",
            "\n",
            "Epoch 4/10\n"
          ]
        },
        {
          "name": "stderr",
          "output_type": "stream",
          "text": [
            "Training: 100%|██████████| 450/450 [00:51<00:00,  8.69it/s]\n"
          ]
        },
        {
          "name": "stdout",
          "output_type": "stream",
          "text": [
            "Training Loss: 0.0928\n",
            "Training epoch took: 51.7735 seconds\n"
          ]
        },
        {
          "name": "stderr",
          "output_type": "stream",
          "text": [
            "Validation: 100%|██████████| 25/25 [00:01<00:00, 14.64it/s]\n"
          ]
        },
        {
          "name": "stdout",
          "output_type": "stream",
          "text": [
            "Validation Loss: 0.6508\n",
            "Validation Accuracy: 0.8875\n",
            "\n",
            "Epoch 5/10\n"
          ]
        },
        {
          "name": "stderr",
          "output_type": "stream",
          "text": [
            "Training: 100%|██████████| 450/450 [00:51<00:00,  8.69it/s]\n"
          ]
        },
        {
          "name": "stdout",
          "output_type": "stream",
          "text": [
            "Training Loss: 0.0566\n",
            "Training epoch took: 51.7663 seconds\n"
          ]
        },
        {
          "name": "stderr",
          "output_type": "stream",
          "text": [
            "Validation: 100%|██████████| 25/25 [00:01<00:00, 14.68it/s]\n"
          ]
        },
        {
          "name": "stdout",
          "output_type": "stream",
          "text": [
            "Validation Loss: 0.6388\n",
            "Validation Accuracy: 0.8950\n",
            "\n",
            "Epoch 6/10\n"
          ]
        },
        {
          "name": "stderr",
          "output_type": "stream",
          "text": [
            "Training: 100%|██████████| 450/450 [00:51<00:00,  8.70it/s]\n"
          ]
        },
        {
          "name": "stdout",
          "output_type": "stream",
          "text": [
            "Training Loss: 0.0324\n",
            "Training epoch took: 51.7531 seconds\n"
          ]
        },
        {
          "name": "stderr",
          "output_type": "stream",
          "text": [
            "Validation: 100%|██████████| 25/25 [00:01<00:00, 14.80it/s]\n"
          ]
        },
        {
          "name": "stdout",
          "output_type": "stream",
          "text": [
            "Validation Loss: 0.7298\n",
            "Validation Accuracy: 0.8950\n",
            "\n",
            "Epoch 7/10\n"
          ]
        },
        {
          "name": "stderr",
          "output_type": "stream",
          "text": [
            "Training: 100%|██████████| 450/450 [00:51<00:00,  8.70it/s]\n"
          ]
        },
        {
          "name": "stdout",
          "output_type": "stream",
          "text": [
            "Training Loss: 0.0183\n",
            "Training epoch took: 51.7363 seconds\n"
          ]
        },
        {
          "name": "stderr",
          "output_type": "stream",
          "text": [
            "Validation: 100%|██████████| 25/25 [00:01<00:00, 14.69it/s]\n"
          ]
        },
        {
          "name": "stdout",
          "output_type": "stream",
          "text": [
            "Validation Loss: 0.7644\n",
            "Validation Accuracy: 0.8988\n",
            "\n",
            "Epoch 8/10\n"
          ]
        },
        {
          "name": "stderr",
          "output_type": "stream",
          "text": [
            "Training: 100%|██████████| 450/450 [00:51<00:00,  8.69it/s]\n"
          ]
        },
        {
          "name": "stdout",
          "output_type": "stream",
          "text": [
            "Training Loss: 0.0156\n",
            "Training epoch took: 51.7668 seconds\n"
          ]
        },
        {
          "name": "stderr",
          "output_type": "stream",
          "text": [
            "Validation: 100%|██████████| 25/25 [00:01<00:00, 14.79it/s]\n"
          ]
        },
        {
          "name": "stdout",
          "output_type": "stream",
          "text": [
            "Validation Loss: 0.7697\n",
            "Validation Accuracy: 0.8975\n",
            "\n",
            "Epoch 9/10\n"
          ]
        },
        {
          "name": "stderr",
          "output_type": "stream",
          "text": [
            "Training: 100%|██████████| 450/450 [00:51<00:00,  8.69it/s]\n"
          ]
        },
        {
          "name": "stdout",
          "output_type": "stream",
          "text": [
            "Training Loss: 0.0127\n",
            "Training epoch took: 51.7848 seconds\n"
          ]
        },
        {
          "name": "stderr",
          "output_type": "stream",
          "text": [
            "Validation: 100%|██████████| 25/25 [00:01<00:00, 14.73it/s]\n"
          ]
        },
        {
          "name": "stdout",
          "output_type": "stream",
          "text": [
            "Validation Loss: 0.7755\n",
            "Validation Accuracy: 0.8975\n",
            "\n",
            "Epoch 10/10\n"
          ]
        },
        {
          "name": "stderr",
          "output_type": "stream",
          "text": [
            "Training: 100%|██████████| 450/450 [00:51<00:00,  8.70it/s]\n"
          ]
        },
        {
          "name": "stdout",
          "output_type": "stream",
          "text": [
            "Training Loss: 0.0059\n",
            "Training epoch took: 51.7548 seconds\n"
          ]
        },
        {
          "name": "stderr",
          "output_type": "stream",
          "text": [
            "Validation: 100%|██████████| 25/25 [00:01<00:00, 14.70it/s]\n"
          ]
        },
        {
          "name": "stdout",
          "output_type": "stream",
          "text": [
            "Validation Loss: 0.7991\n",
            "Validation Accuracy: 0.8988\n",
            "\n",
            "Total training time: 518.0324 seconds\n"
          ]
        },
        {
          "name": "stderr",
          "output_type": "stream",
          "text": [
            "Testing: 100%|██████████| 63/63 [00:04<00:00, 15.40it/s]\n"
          ]
        },
        {
          "name": "stdout",
          "output_type": "stream",
          "text": [
            "Test Accuracy: 0.8935\n",
            "\n",
            "Classification Report:\n",
            "              precision    recall  f1-score   support\n",
            "\n",
            "    negative       0.90      0.89      0.90      1025\n",
            "    positive       0.88      0.90      0.89       975\n",
            "\n",
            "    accuracy                           0.89      2000\n",
            "   macro avg       0.89      0.89      0.89      2000\n",
            "weighted avg       0.89      0.89      0.89      2000\n",
            "\n"
          ]
        }
      ],
      "source": [
        "SAMPLE_SIZE = 1000\n",
        "\n",
        "# Run BERT model\n",
        "bert_accuracy, bert_stats, bert_model = run_bert(train_texts, val_texts, test_texts, train_labels, val_labels, test_labels)\n",
        "\n",
        "# Run XLNet model\n",
        "xlnet_accuracy, xlnet_stats, xlnet_model = run_xlnet(train_texts, val_texts, test_texts, train_labels, val_labels, test_labels)"
      ]
    },
    {
      "cell_type": "markdown",
      "metadata": {},
      "source": [
        "# Results"
      ]
    },
    {
      "cell_type": "code",
      "execution_count": 35,
      "metadata": {},
      "outputs": [
        {
          "name": "stdout",
          "output_type": "stream",
          "text": [
            "\n",
            "======= Model Comparison =======\n",
            "BERT Accuracy: 0.8805\n",
            "XLNet Accuracy: 0.8935\n",
            "XLNet outperformed BERT on this dataset\n",
            "\n",
            "Training Statistics:\n",
            "BERT:\n",
            "Epoch 1: Train Loss = 0.4061, Val Loss = 0.2971, Val Accuracy = 0.8625\n",
            "Epoch 2: Train Loss = 0.2207, Val Loss = 0.4460, Val Accuracy = 0.8650\n",
            "Epoch 3: Train Loss = 0.1158, Val Loss = 0.6591, Val Accuracy = 0.8675\n",
            "Epoch 4: Train Loss = 0.0538, Val Loss = 0.7239, Val Accuracy = 0.8688\n",
            "Epoch 5: Train Loss = 0.0241, Val Loss = 0.8112, Val Accuracy = 0.8700\n",
            "Epoch 6: Train Loss = 0.0100, Val Loss = 0.9731, Val Accuracy = 0.8688\n",
            "Epoch 7: Train Loss = 0.0091, Val Loss = 1.0002, Val Accuracy = 0.8725\n",
            "Epoch 8: Train Loss = 0.0013, Val Loss = 1.0510, Val Accuracy = 0.8712\n",
            "Epoch 9: Train Loss = 0.0030, Val Loss = 1.0783, Val Accuracy = 0.8738\n",
            "Epoch 10: Train Loss = 0.0025, Val Loss = 1.0854, Val Accuracy = 0.8738\n",
            "\n",
            "XLNet:\n",
            "Epoch 1: Train Loss = 0.3667, Val Loss = 0.3390, Val Accuracy = 0.9012\n",
            "Epoch 2: Train Loss = 0.2319, Val Loss = 0.3013, Val Accuracy = 0.9012\n",
            "Epoch 3: Train Loss = 0.1485, Val Loss = 0.5365, Val Accuracy = 0.8812\n",
            "Epoch 4: Train Loss = 0.0928, Val Loss = 0.6508, Val Accuracy = 0.8875\n",
            "Epoch 5: Train Loss = 0.0566, Val Loss = 0.6388, Val Accuracy = 0.8950\n",
            "Epoch 6: Train Loss = 0.0324, Val Loss = 0.7298, Val Accuracy = 0.8950\n",
            "Epoch 7: Train Loss = 0.0183, Val Loss = 0.7644, Val Accuracy = 0.8988\n",
            "Epoch 8: Train Loss = 0.0156, Val Loss = 0.7697, Val Accuracy = 0.8975\n",
            "Epoch 9: Train Loss = 0.0127, Val Loss = 0.7755, Val Accuracy = 0.8975\n",
            "Epoch 10: Train Loss = 0.0059, Val Loss = 0.7991, Val Accuracy = 0.8988\n"
          ]
        },
        {
          "data": {
            "image/png": "[encoded data removed]",
            "text/plain": [
              "<Figure size 1500x500 with 3 Axes>"
            ]
          },
          "metadata": {},
          "output_type": "display_data"
        },
        {
          "name": "stdout",
          "output_type": "stream",
          "text": [
            "\n",
            "Key findings:\n",
            "1. Training time comparison:\n",
            "   - BERT total training time: 408.83 seconds\n",
            "   - XLNet total training time: 518.03 seconds\n",
            "\n",
            "2. Final performance:\n",
            "   - BERT test accuracy: 0.8805\n",
            "   - XLNet test accuracy: 0.8935\n",
            "\n",
            "3. Learning curve:\n",
            "   - BERT validation accuracy evolution: [0.8625, 0.8650, 0.8675, 0.8688, 0.8700, 0.8688, 0.8725, 0.8712, 0.8738, 0.8738]\n",
            "   - XLNet validation accuracy evolution: [0.9012, 0.9012, 0.8812, 0.8875, 0.8950, 0.8950, 0.8988, 0.8975, 0.8975, 0.8988]\n"
          ]
        },
        {
          "data": {
            "image/png": "[encoded data removed]",
            "text/plain": [
              "<Figure size 1200x600 with 2 Axes>"
            ]
          },
          "metadata": {},
          "output_type": "display_data"
        },
        {
          "data": {
            "image/png": "[encoded data removed]",
            "text/plain": [
              "<Figure size 1000x600 with 1 Axes>"
            ]
          },
          "metadata": {},
          "output_type": "display_data"
        },
        {
          "name": "stdout",
          "output_type": "stream",
          "text": [
            "\n",
            "=== Detailed Time Analysis ===\n",
            "BERT average epoch time: 40.88 seconds\n",
            "XLNet average epoch time: 51.80 seconds\n",
            "\n",
            "Training time per sample:\n",
            "BERT: 56.78 milliseconds/sample\n",
            "XLNet: 71.95 milliseconds/sample\n",
            "\n",
            "Efficiency analysis (accuracy per second of training):\n",
            "BERT: 0.2154% accuracy per second of training\n",
            "XLNet: 0.1725% accuracy per second of training\n",
            "\n",
            "BERT is 1.25x more efficient in terms of accuracy per training time.\n"
          ]
        }
      ],
      "source": [
        "# Compare results\n",
        "print(\"\\n======= Model Comparison =======\")\n",
        "print(f\"BERT Accuracy: {bert_accuracy:.4f}\")\n",
        "print(f\"XLNet Accuracy: {xlnet_accuracy:.4f}\")\n",
        "\n",
        "if bert_accuracy > xlnet_accuracy:\n",
        "    print(\"BERT outperformed XLNet on this dataset\")\n",
        "elif xlnet_accuracy > bert_accuracy:\n",
        "    print(\"XLNet outperformed BERT on this dataset\")\n",
        "else:\n",
        "    print(\"Both models performed equally well\")\n",
        "\n",
        "print(\"\\nTraining Statistics:\")\n",
        "print(\"BERT:\")\n",
        "for stat in bert_stats:\n",
        "    print(f\"Epoch {stat['epoch']}: Train Loss = {stat['train_loss']:.4f}, Val Loss = {stat['val_loss']:.4f}, Val Accuracy = {stat['val_accuracy']:.4f}\")\n",
        "\n",
        "print(\"\\nXLNet:\")\n",
        "for stat in xlnet_stats:\n",
        "    print(f\"Epoch {stat['epoch']}: Train Loss = {stat['train_loss']:.4f}, Val Loss = {stat['val_loss']:.4f}, Val Accuracy = {stat['val_accuracy']:.4f}\")\n",
        "\n",
        "# Plot comparison\n",
        "plot_comparison(bert_stats, xlnet_stats)\n",
        "\n",
        "# Calculate and display total training times\n",
        "print(\"\\nKey findings:\")\n",
        "print(\"1. Training time comparison:\")\n",
        "bert_time = sum(stat['epoch_time'] for stat in bert_stats)\n",
        "xlnet_time = sum(stat['epoch_time'] for stat in xlnet_stats)\n",
        "print(f\"   - BERT total training time: {bert_time:.2f} seconds\")\n",
        "print(f\"   - XLNet total training time: {xlnet_time:.2f} seconds\")\n",
        "\n",
        "print(\"\\n2. Final performance:\")\n",
        "print(f\"   - BERT test accuracy: {bert_accuracy:.4f}\")\n",
        "print(f\"   - XLNet test accuracy: {xlnet_accuracy:.4f}\")\n",
        "\n",
        "print(\"\\n3. Learning curve:\")\n",
        "bert_val_accuracies = \", \".join([f\"{stat['val_accuracy']:.4f}\" for stat in bert_stats])\n",
        "xlnet_val_accuracies = \", \".join([f\"{stat['val_accuracy']:.4f}\" for stat in xlnet_stats])\n",
        "print(f\"   - BERT validation accuracy evolution: [{bert_val_accuracies}]\")\n",
        "print(f\"   - XLNet validation accuracy evolution: [{xlnet_val_accuracies}]\")\n",
        "\n",
        "# Run the time comparison analyses after training both models\n",
        "time_comparison = create_time_comparison_plots(bert_stats, xlnet_stats)\n",
        "plot_time_vs_performance(bert_stats, xlnet_stats, bert_accuracy, xlnet_accuracy)\n",
        "\n",
        "# Print detailed time analysis\n",
        "print(\"\\n=== Detailed Time Analysis ===\")\n",
        "print(f\"BERT average epoch time: {sum(time_comparison['bert_times'])/len(time_comparison['bert_times']):.2f} seconds\")\n",
        "print(f\"XLNet average epoch time: {sum(time_comparison['xlnet_times'])/len(time_comparison['xlnet_times']):.2f} seconds\")\n",
        "\n",
        "# Time per sample analysis\n",
        "num_train_samples = len(train_texts)\n",
        "print(f\"\\nTraining time per sample:\")\n",
        "print(f\"BERT: {time_comparison['bert_total']/num_train_samples*1000:.2f} milliseconds/sample\")\n",
        "print(f\"XLNet: {time_comparison['xlnet_total']/num_train_samples*1000:.2f} milliseconds/sample\")\n",
        "\n",
        "# Performance vs time trade-off\n",
        "print(\"\\nEfficiency analysis (accuracy per second of training):\")\n",
        "bert_efficiency = bert_accuracy / time_comparison['bert_total'] * 100\n",
        "xlnet_efficiency = xlnet_accuracy / time_comparison['xlnet_total'] * 100\n",
        "print(f\"BERT: {bert_efficiency:.4f}% accuracy per second of training\")\n",
        "print(f\"XLNet: {xlnet_efficiency:.4f}% accuracy per second of training\")\n",
        "\n",
        "more_efficient = \"BERT\" if bert_efficiency > xlnet_efficiency else \"XLNet\"\n",
        "efficiency_ratio = bert_efficiency/xlnet_efficiency if bert_efficiency > xlnet_efficiency else xlnet_efficiency/bert_efficiency\n",
        "print(f\"\\n{more_efficient} is {efficiency_ratio:.2f}x more efficient in terms of accuracy per training time.\")"
      ]
    },
    {
      "cell_type": "markdown",
      "metadata": {},
      "source": [
        "Conclussion: Both models perform similarly well, but BERT is slightly faster and more efficient."
      ]
    },
    {
      "cell_type": "markdown",
      "metadata": {},
      "source": [
        "Thanks for reading the code, connect with me on [LinkedIn](https://www.linkedin.com/in/alvaro-francisco-gil/) or [GitHub](https://github.com/alvaro-francisco-gil) if you have any questions or comments.\n",
        "\n",
        "*Álvaro Francisco Gil*"
      ]
    }
  ],
  "metadata": {
    "colab": {
      "provenance": []
    },
    "kernelspec": {
      "display_name": "Python 3",
      "name": "python3"
    },
    "language_info": {
      "codemirror_mode": {
        "name": "ipython",
        "version": 3
      },
      "file_extension": ".py",
      "mimetype": "text/x-python",
      "name": "python",
      "nbconvert_exporter": "python",
      "pygments_lexer": "ipython3",
      "version": "3.11.10"
    }
  },
  "nbformat": 4,
  "nbformat_minor": 0
}
