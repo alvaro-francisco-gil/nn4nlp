{
  "cells": [
    {
      "cell_type": "markdown",
      "metadata": {},
      "source": [
        "[![Open in Colab](https://colab.research.google.com/assets/colab-badge.svg)](https://colab.research.google.com/github/alvaro-francisco-gil/nn4nlp/blob/main/exercises/02_convolutions_sentiment_analysis.ipynb) \n",
        "[![View on GitHub](https://img.shields.io/badge/Open%20on-GitHub-blue?logo=github)](https://github.com/alvaro-francisco-gil/nn4nlp/blob/main/exercises/02_convolutions_sentiment_analysis.ipynb)\n",
        "\n"
      ]
    },
    {
      "cell_type": "markdown",
      "metadata": {},
      "source": [
        "This practice is similar to the previous one until the encoding part.\n",
        "\n",
        "[Jump to Encoding](#Encoding)"
      ]
    },
    {
      "cell_type": "code",
      "execution_count": 1,
      "metadata": {
        "colab": {
          "base_uri": "https://localhost:8080/"
        },
        "id": "S4ld2bWB62Wm",
        "outputId": "b55083a9-4d72-4d37-d172-835a30e2b6ac"
      },
      "outputs": [
        {
          "name": "stderr",
          "output_type": "stream",
          "text": [
            "[nltk_data] Downloading package punkt to /root/nltk_data...\n",
            "[nltk_data]   Package punkt is already up-to-date!\n",
            "[nltk_data] Downloading package punkt_tab to /root/nltk_data...\n",
            "[nltk_data]   Package punkt_tab is already up-to-date!\n",
            "[nltk_data] Downloading package stopwords to /root/nltk_data...\n",
            "[nltk_data]   Package stopwords is already up-to-date!\n",
            "[nltk_data] Downloading package wordnet to /root/nltk_data...\n",
            "[nltk_data]   Package wordnet is already up-to-date!\n"
          ]
        },
        {
          "name": "stdout",
          "output_type": "stream",
          "text": [
            "True\n"
          ]
        }
      ],
      "source": [
        "import re\n",
        "import string\n",
        "from collections import Counter\n",
        "from typing import List, Tuple\n",
        "import matplotlib.pyplot as plt\n",
        "import numpy as np\n",
        "import os\n",
        "import pandas as pd\n",
        "from gensim.models import Word2Vec\n",
        "from nltk.corpus import stopwords\n",
        "from nltk.stem import WordNetLemmatizer\n",
        "from nltk.tokenize import word_tokenize\n",
        "from sklearn.preprocessing import LabelEncoder\n",
        "import seaborn as sns\n",
        "\n",
        "import nltk\n",
        "nltk.download('punkt')\n",
        "nltk.download('punkt_tab')\n",
        "nltk.download('stopwords')\n",
        "nltk.download('wordnet')\n",
        "\n",
        "import torch\n",
        "import torch.nn as nn\n",
        "from torch.utils.data import TensorDataset, DataLoader\n",
        "print(torch.cuda.is_available())"
      ]
    },
    {
      "cell_type": "markdown",
      "metadata": {
        "id": "GInQXNpm-p4E"
      },
      "source": [
        "# Analyze Data"
      ]
    },
    {
      "cell_type": "code",
      "execution_count": 2,
      "metadata": {
        "colab": {
          "base_uri": "https://localhost:8080/",
          "height": 206
        },
        "id": "g_GhTMQ-6w_W",
        "outputId": "2fc6950b-f7b9-4714-ef56-29d6a79c350c"
      },
      "outputs": [
        {
          "data": {
            "text/html": [
              "<div>\n",
              "<style scoped>\n",
              "    .dataframe tbody tr th:only-of-type {\n",
              "        vertical-align: middle;\n",
              "    }\n",
              "\n",
              "    .dataframe tbody tr th {\n",
              "        vertical-align: top;\n",
              "    }\n",
              "\n",
              "    .dataframe thead th {\n",
              "        text-align: right;\n",
              "    }\n",
              "</style>\n",
              "<table border=\"1\" class=\"dataframe\">\n",
              "  <thead>\n",
              "    <tr style=\"text-align: right;\">\n",
              "      <th></th>\n",
              "      <th>id</th>\n",
              "      <th>review</th>\n",
              "      <th>sentiment</th>\n",
              "    </tr>\n",
              "  </thead>\n",
              "  <tbody>\n",
              "    <tr>\n",
              "      <th>0</th>\n",
              "      <td>17527</td>\n",
              "      <td>People tried to make me believe that the premi...</td>\n",
              "      <td>negative</td>\n",
              "    </tr>\n",
              "    <tr>\n",
              "      <th>1</th>\n",
              "      <td>24155</td>\n",
              "      <td>I have been wanting to see cut since the day i...</td>\n",
              "      <td>positive</td>\n",
              "    </tr>\n",
              "    <tr>\n",
              "      <th>2</th>\n",
              "      <td>21972</td>\n",
              "      <td>This movie is terrible. The suspense is spent ...</td>\n",
              "      <td>negative</td>\n",
              "    </tr>\n",
              "    <tr>\n",
              "      <th>3</th>\n",
              "      <td>4565</td>\n",
              "      <td>I hope she can keep acting and directing. She'...</td>\n",
              "      <td>positive</td>\n",
              "    </tr>\n",
              "    <tr>\n",
              "      <th>4</th>\n",
              "      <td>22098</td>\n",
              "      <td>I fell in love with this silent action drama. ...</td>\n",
              "      <td>positive</td>\n",
              "    </tr>\n",
              "  </tbody>\n",
              "</table>\n",
              "</div>"
            ],
            "text/plain": [
              "      id                                             review sentiment\n",
              "0  17527  People tried to make me believe that the premi...  negative\n",
              "1  24155  I have been wanting to see cut since the day i...  positive\n",
              "2  21972  This movie is terrible. The suspense is spent ...  negative\n",
              "3   4565  I hope she can keep acting and directing. She'...  positive\n",
              "4  22098  I fell in love with this silent action drama. ...  positive"
            ]
          },
          "execution_count": 2,
          "metadata": {},
          "output_type": "execute_result"
        }
      ],
      "source": [
        "train_file = '/root/nn4nlp/data/train_reviews.csv'\n",
        "df = pd.read_csv(train_file)\n",
        "df.head()"
      ]
    },
    {
      "cell_type": "code",
      "execution_count": 3,
      "metadata": {
        "colab": {
          "base_uri": "https://localhost:8080/"
        },
        "id": "hV35vmkE7G2I",
        "outputId": "89945ae1-81d3-4e1e-d094-92b62262eb02"
      },
      "outputs": [
        {
          "data": {
            "text/plain": [
              "(8000, 3)"
            ]
          },
          "execution_count": 3,
          "metadata": {},
          "output_type": "execute_result"
        }
      ],
      "source": [
        "df.shape"
      ]
    },
    {
      "cell_type": "code",
      "execution_count": 4,
      "metadata": {
        "colab": {
          "base_uri": "https://localhost:8080/",
          "height": 206
        },
        "id": "qUv5lIdV7IfI",
        "outputId": "336080f8-eadc-4474-b6c4-92b90097aae2"
      },
      "outputs": [
        {
          "data": {
            "text/html": [
              "<div>\n",
              "<style scoped>\n",
              "    .dataframe tbody tr th:only-of-type {\n",
              "        vertical-align: middle;\n",
              "    }\n",
              "\n",
              "    .dataframe tbody tr th {\n",
              "        vertical-align: top;\n",
              "    }\n",
              "\n",
              "    .dataframe thead th {\n",
              "        text-align: right;\n",
              "    }\n",
              "</style>\n",
              "<table border=\"1\" class=\"dataframe\">\n",
              "  <thead>\n",
              "    <tr style=\"text-align: right;\">\n",
              "      <th></th>\n",
              "      <th>id</th>\n",
              "      <th>review</th>\n",
              "      <th>sentiment</th>\n",
              "    </tr>\n",
              "  </thead>\n",
              "  <tbody>\n",
              "    <tr>\n",
              "      <th>0</th>\n",
              "      <td>6666</td>\n",
              "      <td>Movies about dinosaurs can be entertaining. So...</td>\n",
              "      <td>negative</td>\n",
              "    </tr>\n",
              "    <tr>\n",
              "      <th>1</th>\n",
              "      <td>23267</td>\n",
              "      <td>If it's action and adventure you want in a mov...</td>\n",
              "      <td>positive</td>\n",
              "    </tr>\n",
              "    <tr>\n",
              "      <th>2</th>\n",
              "      <td>2897</td>\n",
              "      <td>Barbra Streisand is a tour de force in this Ho...</td>\n",
              "      <td>positive</td>\n",
              "    </tr>\n",
              "    <tr>\n",
              "      <th>3</th>\n",
              "      <td>23177</td>\n",
              "      <td>I borrowed this movie despite its extremely lo...</td>\n",
              "      <td>positive</td>\n",
              "    </tr>\n",
              "    <tr>\n",
              "      <th>4</th>\n",
              "      <td>14171</td>\n",
              "      <td>\"Baby Face\" is a precode melodrama starring a ...</td>\n",
              "      <td>positive</td>\n",
              "    </tr>\n",
              "  </tbody>\n",
              "</table>\n",
              "</div>"
            ],
            "text/plain": [
              "      id                                             review sentiment\n",
              "0   6666  Movies about dinosaurs can be entertaining. So...  negative\n",
              "1  23267  If it's action and adventure you want in a mov...  positive\n",
              "2   2897  Barbra Streisand is a tour de force in this Ho...  positive\n",
              "3  23177  I borrowed this movie despite its extremely lo...  positive\n",
              "4  14171  \"Baby Face\" is a precode melodrama starring a ...  positive"
            ]
          },
          "execution_count": 4,
          "metadata": {},
          "output_type": "execute_result"
        }
      ],
      "source": [
        "test_file = '/root/nn4nlp/data/test_reviews.csv'\n",
        "test_df = pd.read_csv(test_file)\n",
        "test_df.head()"
      ]
    },
    {
      "cell_type": "code",
      "execution_count": 5,
      "metadata": {
        "colab": {
          "base_uri": "https://localhost:8080/"
        },
        "id": "sjhniwj77O6l",
        "outputId": "3ce0ff65-f23f-4074-f7d1-bc752ff7ac23"
      },
      "outputs": [
        {
          "data": {
            "text/plain": [
              "(2000, 3)"
            ]
          },
          "execution_count": 5,
          "metadata": {},
          "output_type": "execute_result"
        }
      ],
      "source": [
        "test_df.shape"
      ]
    },
    {
      "cell_type": "markdown",
      "metadata": {
        "id": "8SmJ2M5Nr7ML"
      },
      "source": [
        "## Check class balance"
      ]
    },
    {
      "cell_type": "code",
      "execution_count": 6,
      "metadata": {
        "colab": {
          "base_uri": "https://localhost:8080/",
          "height": 178
        },
        "id": "hlJgktQ3sChs",
        "outputId": "f4d7aefb-17da-4480-eb27-55c6796db9b8"
      },
      "outputs": [
        {
          "data": {
            "text/plain": [
              "sentiment\n",
              "positive    4012\n",
              "negative    3988\n",
              "Name: count, dtype: int64"
            ]
          },
          "execution_count": 6,
          "metadata": {},
          "output_type": "execute_result"
        }
      ],
      "source": [
        "df.value_counts('sentiment')"
      ]
    },
    {
      "cell_type": "code",
      "execution_count": 7,
      "metadata": {
        "colab": {
          "base_uri": "https://localhost:8080/",
          "height": 178
        },
        "id": "Qn_Gnf9TsGDC",
        "outputId": "c0dff444-d590-4493-fea4-85fdd8819b90"
      },
      "outputs": [
        {
          "data": {
            "text/plain": [
              "sentiment\n",
              "negative    1025\n",
              "positive     975\n",
              "Name: count, dtype: int64"
            ]
          },
          "execution_count": 7,
          "metadata": {},
          "output_type": "execute_result"
        }
      ],
      "source": [
        "test_df.value_counts('sentiment')"
      ]
    },
    {
      "cell_type": "markdown",
      "metadata": {
        "id": "qtI-rrXGsJ9L"
      },
      "source": [
        "Both classes are balanced"
      ]
    },
    {
      "cell_type": "markdown",
      "metadata": {
        "id": "bucYFby-_L_a"
      },
      "source": [
        "## Check missing values"
      ]
    },
    {
      "cell_type": "code",
      "execution_count": 8,
      "metadata": {
        "colab": {
          "base_uri": "https://localhost:8080/",
          "height": 178
        },
        "id": "DyFxsqgH-7Xd",
        "outputId": "97615e2f-4433-4423-bebe-f1f919728784"
      },
      "outputs": [
        {
          "data": {
            "text/plain": [
              "id           0\n",
              "review       0\n",
              "sentiment    0\n",
              "dtype: int64"
            ]
          },
          "execution_count": 8,
          "metadata": {},
          "output_type": "execute_result"
        }
      ],
      "source": [
        "df.isna().sum()\n"
      ]
    },
    {
      "cell_type": "code",
      "execution_count": 9,
      "metadata": {
        "colab": {
          "base_uri": "https://localhost:8080/",
          "height": 178
        },
        "id": "l26Hgdj5_AUr",
        "outputId": "899cbdef-3851-4d76-a305-057e685ac702"
      },
      "outputs": [
        {
          "data": {
            "text/plain": [
              "id           0\n",
              "review       0\n",
              "sentiment    0\n",
              "dtype: int64"
            ]
          },
          "execution_count": 9,
          "metadata": {},
          "output_type": "execute_result"
        }
      ],
      "source": [
        "test_df.isna().sum()"
      ]
    },
    {
      "cell_type": "markdown",
      "metadata": {
        "id": "-jaT8OEQ_RCY"
      },
      "source": [
        "## Visual Inspection"
      ]
    },
    {
      "cell_type": "code",
      "execution_count": 10,
      "metadata": {
        "colab": {
          "base_uri": "https://localhost:8080/",
          "height": 91
        },
        "id": "FFokHF407URm",
        "outputId": "937c90e4-2399-4314-a747-8851280f78c3"
      },
      "outputs": [
        {
          "data": {
            "text/plain": [
              "\"I have been wanting to see cut since the day i have heard of it, which was sometime last year. Anyway i got to see today, and when the movie started i thought that it started rather week but it got better after 10 mins or so. I thought that the movie was pretty good. but the thing i didn't like was how the killer was created, i was thinking just before i rented that it would probably suck just like Urban legends: final cut, i almost died it. mostly everything in UL final cut needed to be improved. CUT is 100 times better than UL:final cut. The best part of CUT is the killer and the death scenes. The killer kicks MO F***ING ASS.<br /><br />i give cut a 8 out of 10\""
            ]
          },
          "execution_count": 10,
          "metadata": {},
          "output_type": "execute_result"
        }
      ],
      "source": [
        "df.iloc[1]['review']"
      ]
    },
    {
      "cell_type": "code",
      "execution_count": 11,
      "metadata": {
        "colab": {
          "base_uri": "https://localhost:8080/",
          "height": 55
        },
        "id": "AF6OaAAm7nbh",
        "outputId": "83e6d147-2d4b-48f1-c4da-27d6560d285f"
      },
      "outputs": [
        {
          "data": {
            "text/plain": [
              "'This movie is terrible. The suspense is spent waiting for a point. There isn\\'t much of one.<br /><br />Aside from a few great lines ( \"I found a tooth in my apartment\" ), and the main characters dedication to killing himself, it\\'s a collection of supposedly eerie sounds.<br /><br />'"
            ]
          },
          "execution_count": 11,
          "metadata": {},
          "output_type": "execute_result"
        }
      ],
      "source": [
        "df.iloc[2]['review']"
      ]
    },
    {
      "cell_type": "markdown",
      "metadata": {
        "id": "GNCdiwQ7_jms"
      },
      "source": [
        "Insigths:\n",
        "- Needd to remove HTML labels\n",
        "- Not in lowercase"
      ]
    },
    {
      "cell_type": "markdown",
      "metadata": {
        "id": "CRmirT7CAOWs"
      },
      "source": [
        "## Word Histogram"
      ]
    },
    {
      "cell_type": "code",
      "execution_count": 12,
      "metadata": {
        "id": "aIssCT1zAQhj"
      },
      "outputs": [],
      "source": [
        "def plot_word_histogram(text_array):\n",
        "    # Convert input to a flat list of strings\n",
        "    if isinstance(text_array, str):\n",
        "        # If it's a single string, convert to list\n",
        "        text_array = [text_array]\n",
        "    elif isinstance(text_array, list):\n",
        "        # Flatten nested lists and ensure all elements are strings\n",
        "        flattened = []\n",
        "        for item in text_array:\n",
        "            if isinstance(item, list):\n",
        "                flattened.extend(item)\n",
        "            else:\n",
        "                flattened.append(item)\n",
        "        text_array = [str(item) for item in flattened]\n",
        "    else:\n",
        "        raise ValueError(\"Input must be a string or a list of strings.\")\n",
        "\n",
        "    # Join all text into one string\n",
        "    all_text = ' '.join(text_array)\n",
        "\n",
        "    # Tokenize words by splitting on whitespace\n",
        "    words = all_text.split()\n",
        "\n",
        "    # Count word frequencies\n",
        "    word_counts = Counter(words)\n",
        "    labels, values = zip(*word_counts.items())\n",
        "\n",
        "    # Sort by frequency in descending order\n",
        "    sorted_indices = np.argsort(values)[::-1]\n",
        "    labels = np.array(labels)[sorted_indices]\n",
        "    values = np.array(values)[sorted_indices]\n",
        "\n",
        "    # Plot the histogram for the top 10 most frequent words\n",
        "    plt.figure(figsize=(10, 6))\n",
        "    plt.bar(labels[:10], values[:10], color='skyblue')\n",
        "    plt.xticks(rotation=45, ha='right')\n",
        "    plt.title('Top 10 Most Frequent Words')\n",
        "    plt.xlabel('Words')\n",
        "    plt.ylabel('Frequency')\n",
        "    plt.tight_layout()\n",
        "    plt.show()"
      ]
    },
    {
      "cell_type": "code",
      "execution_count": 13,
      "metadata": {
        "colab": {
          "base_uri": "https://localhost:8080/",
          "height": 607
        },
        "id": "Ya0LvKbeAkc0",
        "outputId": "d5712a18-42d5-4742-ebee-033ec463e56d"
      },
      "outputs": [
        {
          "data": {
            "image/png": "[encoded data removed]",
            "text/plain": [
              "<Figure size 1000x600 with 1 Axes>"
            ]
          },
          "metadata": {},
          "output_type": "display_data"
        }
      ],
      "source": [
        "plot_word_histogram(df['review'].to_list())"
      ]
    },
    {
      "cell_type": "markdown",
      "metadata": {
        "id": "LwkQJ8yVA7ja"
      },
      "source": [
        "# Pre-processing"
      ]
    },
    {
      "cell_type": "code",
      "execution_count": 14,
      "metadata": {
        "colab": {
          "base_uri": "https://localhost:8080/"
        },
        "id": "2-gJGFb3A9h-",
        "outputId": "d4fb090b-9e61-4bfe-e26b-1dff75c50099"
      },
      "outputs": [
        {
          "data": {
            "text/plain": [
              "(10000,)"
            ]
          },
          "execution_count": 14,
          "metadata": {},
          "output_type": "execute_result"
        }
      ],
      "source": [
        "data = np.concatenate([df['review'].values,test_df['review'].values],axis=0)\n",
        "raw_data = data\n",
        "data.shape"
      ]
    },
    {
      "cell_type": "markdown",
      "metadata": {
        "id": "IZiGdCAfBlnX"
      },
      "source": [
        "## Remove HTML labels"
      ]
    },
    {
      "cell_type": "code",
      "execution_count": 15,
      "metadata": {
        "id": "bGNeZtxlBi8g"
      },
      "outputs": [],
      "source": [
        "def clean_htmls_text_array(text_array):\n",
        "\n",
        "    def remove_html_tags(text):\n",
        "        pattern = re.compile('<.*?>')\n",
        "        clean_text = re.sub(pattern, '', text)\n",
        "        clean_text = ' '.join(clean_text.split())\n",
        "        return clean_text\n",
        "\n",
        "    cleaned_array = [remove_html_tags(text) for text in text_array]\n",
        "\n",
        "    return cleaned_array"
      ]
    },
    {
      "cell_type": "code",
      "execution_count": 16,
      "metadata": {
        "colab": {
          "base_uri": "https://localhost:8080/",
          "height": 36
        },
        "id": "3kCaTiK2B-IM",
        "outputId": "f91af580-4a2e-465c-8604-1f579a3fc12e"
      },
      "outputs": [
        {
          "data": {
            "text/plain": [
              "'ASS.<br /><br />i give cut a 8 out of 10'"
            ]
          },
          "execution_count": 16,
          "metadata": {},
          "output_type": "execute_result"
        }
      ],
      "source": [
        "data[1][-40:]"
      ]
    },
    {
      "cell_type": "code",
      "execution_count": 17,
      "metadata": {
        "id": "57XDTN-MBqEI"
      },
      "outputs": [],
      "source": [
        "data = clean_htmls_text_array(data)"
      ]
    },
    {
      "cell_type": "code",
      "execution_count": 18,
      "metadata": {
        "colab": {
          "base_uri": "https://localhost:8080/",
          "height": 36
        },
        "id": "CEOH73NKB_fR",
        "outputId": "c1a9058f-9189-4ff0-cda1-13c71bb73fdb"
      },
      "outputs": [
        {
          "data": {
            "text/plain": [
              "' MO F***ING ASS.i give cut a 8 out of 10'"
            ]
          },
          "execution_count": 18,
          "metadata": {},
          "output_type": "execute_result"
        }
      ],
      "source": [
        "data[1][-40:]"
      ]
    },
    {
      "cell_type": "markdown",
      "metadata": {
        "id": "_G6kXoIxCyA3"
      },
      "source": [
        "## Downcase"
      ]
    },
    {
      "cell_type": "code",
      "execution_count": 19,
      "metadata": {
        "id": "M2ZObnKJC0lp"
      },
      "outputs": [],
      "source": [
        "def lowercase_array(text_array):\n",
        "    return [text.lower() for text in text_array]"
      ]
    },
    {
      "cell_type": "code",
      "execution_count": 20,
      "metadata": {
        "id": "Z2ggSavTDJqu"
      },
      "outputs": [],
      "source": [
        "data = lowercase_array(data)"
      ]
    },
    {
      "cell_type": "code",
      "execution_count": 21,
      "metadata": {
        "colab": {
          "base_uri": "https://localhost:8080/",
          "height": 36
        },
        "id": "K-n00afDDMZk",
        "outputId": "caa6cddf-b7be-426d-c620-f486f5554598"
      },
      "outputs": [
        {
          "data": {
            "text/plain": [
              "' mo f***ing ass.i give cut a 8 out of 10'"
            ]
          },
          "execution_count": 21,
          "metadata": {},
          "output_type": "execute_result"
        }
      ],
      "source": [
        "data[1][-40:]"
      ]
    },
    {
      "cell_type": "markdown",
      "metadata": {
        "id": "j0KD3mDtEDHi"
      },
      "source": [
        "I don't want to remove the numbers as they may contain valuable information for the classifier, as in this case: \"8 out of 10\""
      ]
    },
    {
      "cell_type": "markdown",
      "metadata": {
        "id": "A5A3s6myFqBO"
      },
      "source": [
        "I test the hypothesis:"
      ]
    },
    {
      "cell_type": "code",
      "execution_count": 22,
      "metadata": {
        "id": "IbamfUVuENxO"
      },
      "outputs": [],
      "source": [
        "def find_term_with_context(text_array, term, context_chars=5):\n",
        "    occurrences = 0\n",
        "    occurrences_list = []\n",
        "\n",
        "    for text in text_array:\n",
        "        start = 0\n",
        "        while (start := text.find(term, start)) != -1:\n",
        "            occurrences += 1\n",
        "            context_start = max(0, start - context_chars)\n",
        "            context_end = min(len(text), start + len(term) + context_chars)\n",
        "            context = text[context_start:context_end]\n",
        "\n",
        "            occurrences_list.append(f\"...{context}...\")\n",
        "            start += len(term)\n",
        "\n",
        "    print(f\"\\nTotal occurrences of '{term}': {occurrences}\")\n",
        "    return occurrences, occurrences_list"
      ]
    },
    {
      "cell_type": "code",
      "execution_count": 23,
      "metadata": {
        "colab": {
          "base_uri": "https://localhost:8080/",
          "height": 73
        },
        "id": "WlbHafGeEa4T",
        "outputId": "33378c04-bfdc-45b5-a964-ed2cd1c7bfa1"
      },
      "outputs": [
        {
          "name": "stdout",
          "output_type": "stream",
          "text": [
            "\n",
            "Total occurrences of 'out of': 2070\n"
          ]
        },
        {
          "data": {
            "text/plain": [
              "'... a 3 out of 10, ...'"
            ]
          },
          "execution_count": 23,
          "metadata": {},
          "output_type": "execute_result"
        }
      ],
      "source": [
        "_,ocurrences = find_term_with_context(data, 'out of')\n",
        "ocurrences[1]"
      ]
    },
    {
      "cell_type": "markdown",
      "metadata": {
        "id": "-VC0VWYFt6cx"
      },
      "source": [
        "We see that 2070 reviews contain a possible explicit grade"
      ]
    },
    {
      "cell_type": "markdown",
      "metadata": {
        "id": "uwxH221Qw869"
      },
      "source": [
        "## Expand Contractions"
      ]
    },
    {
      "cell_type": "code",
      "execution_count": 24,
      "metadata": {
        "id": "T4fvSsd3w_s3"
      },
      "outputs": [],
      "source": [
        "def expand_contractions(texts):\n",
        "    contractions = {\n",
        "        \"n't\": \" not\",\n",
        "        \"'re\": \" are\",\n",
        "        \"'s\": \" is\",\n",
        "        \"'d\": \" would\",\n",
        "        \"'ll\": \" will\",\n",
        "        \"'ve\": \" have\",\n",
        "        \"'m\": \" am\"\n",
        "    }\n",
        "    def expand(text):\n",
        "        for contraction, expansion in contractions.items():\n",
        "            text = text.replace(contraction, expansion)\n",
        "        return text\n",
        "    return [expand(text) for text in texts]"
      ]
    },
    {
      "cell_type": "code",
      "execution_count": 25,
      "metadata": {
        "colab": {
          "base_uri": "https://localhost:8080/",
          "height": 36
        },
        "id": "nfqbsTnQxG1b",
        "outputId": "d6573088-ef34-41e2-f184-498755a5bedd"
      },
      "outputs": [
        {
          "data": {
            "text/plain": [
              "\"a never-ending murder spree. it's not a highly ori\""
            ]
          },
          "execution_count": 25,
          "metadata": {},
          "output_type": "execute_result"
        }
      ],
      "source": [
        "data[0][330:380]"
      ]
    },
    {
      "cell_type": "code",
      "execution_count": 26,
      "metadata": {
        "id": "3fwL816xxABS"
      },
      "outputs": [],
      "source": [
        "data = expand_contractions(data)"
      ]
    },
    {
      "cell_type": "code",
      "execution_count": 27,
      "metadata": {
        "colab": {
          "base_uri": "https://localhost:8080/",
          "height": 36
        },
        "id": "1-Pg6igDw_4i",
        "outputId": "7af1aa6f-c413-4c26-d468-79eb2061cada"
      },
      "outputs": [
        {
          "data": {
            "text/plain": [
              "'a never-ending murder spree. it is not a highly or'"
            ]
          },
          "execution_count": 27,
          "metadata": {},
          "output_type": "execute_result"
        }
      ],
      "source": [
        "data[0][330:380]"
      ]
    },
    {
      "cell_type": "markdown",
      "metadata": {
        "id": "Si8i-qxqu4uU"
      },
      "source": [
        "## Remove Punctuation"
      ]
    },
    {
      "cell_type": "code",
      "execution_count": 28,
      "metadata": {
        "id": "wMr-xeUIu8PP"
      },
      "outputs": [],
      "source": [
        "def remove_punctuation(texts):\n",
        "    translator = str.maketrans('', '', string.punctuation)\n",
        "    return [text.translate(translator) for text in texts]"
      ]
    },
    {
      "cell_type": "code",
      "execution_count": 29,
      "metadata": {
        "id": "dcgXqHj6wajb"
      },
      "outputs": [],
      "source": [
        "data = remove_punctuation(data)"
      ]
    },
    {
      "cell_type": "code",
      "execution_count": 30,
      "metadata": {
        "colab": {
          "base_uri": "https://localhost:8080/",
          "height": 36
        },
        "id": "l0gMQSFVwKoF",
        "outputId": "4da89873-47d6-4792-ef35-01eac40d5d49"
      },
      "outputs": [
        {
          "data": {
            "text/plain": [
              "'erending murder spree it is not a highly original '"
            ]
          },
          "execution_count": 30,
          "metadata": {},
          "output_type": "execute_result"
        }
      ],
      "source": [
        "data[0][330:380]"
      ]
    },
    {
      "cell_type": "markdown",
      "metadata": {
        "id": "y-AwRmimxQLb"
      },
      "source": [
        "## Tokenization"
      ]
    },
    {
      "cell_type": "code",
      "execution_count": 31,
      "metadata": {
        "id": "k9rMQpEsvvEv"
      },
      "outputs": [],
      "source": [
        "def tokenize_texts(texts):\n",
        "    return [word_tokenize(text) for text in texts]"
      ]
    },
    {
      "cell_type": "code",
      "execution_count": 32,
      "metadata": {
        "id": "uCk0f0vbwlBt"
      },
      "outputs": [],
      "source": [
        "data = tokenize_texts(data)"
      ]
    },
    {
      "cell_type": "code",
      "execution_count": 33,
      "metadata": {
        "colab": {
          "base_uri": "https://localhost:8080/"
        },
        "id": "Xp9XrW9Lyv4Q",
        "outputId": "276a4f1e-09ae-49e4-9ecb-5dfe5d756fba"
      },
      "outputs": [
        {
          "data": {
            "text/plain": [
              "['people', 'tried', 'to', 'make', 'me']"
            ]
          },
          "execution_count": 33,
          "metadata": {},
          "output_type": "execute_result"
        }
      ],
      "source": [
        "data[0][:5]"
      ]
    },
    {
      "cell_type": "markdown",
      "metadata": {
        "id": "5u5eT2Zt4DFW"
      },
      "source": [
        "## Lemmatization"
      ]
    },
    {
      "cell_type": "code",
      "execution_count": 34,
      "metadata": {
        "id": "anYKNHGK4Fv5"
      },
      "outputs": [],
      "source": [
        "def lemmatize_texts(tokenized_texts):\n",
        "    lemmatizer = WordNetLemmatizer()\n",
        "    return [[lemmatizer.lemmatize(word) for word in text] for text in tokenized_texts]"
      ]
    },
    {
      "cell_type": "code",
      "execution_count": 35,
      "metadata": {
        "colab": {
          "base_uri": "https://localhost:8080/",
          "height": 36
        },
        "id": "LnorO6bH4GJ2",
        "outputId": "dd3a3f3c-ca09-4638-cf9f-91a1a247b1b8"
      },
      "outputs": [
        {
          "data": {
            "text/plain": [
              "'escapes'"
            ]
          },
          "execution_count": 35,
          "metadata": {},
          "output_type": "execute_result"
        }
      ],
      "source": [
        "data[0][29]"
      ]
    },
    {
      "cell_type": "code",
      "execution_count": 36,
      "metadata": {
        "id": "RVGMnVqY4GGx"
      },
      "outputs": [],
      "source": [
        "data = lemmatize_texts(data)"
      ]
    },
    {
      "cell_type": "code",
      "execution_count": 37,
      "metadata": {
        "colab": {
          "base_uri": "https://localhost:8080/",
          "height": 36
        },
        "id": "IbLgnCjA4Jx8",
        "outputId": "eb20b473-dbf9-4099-abec-f78e19c38c00"
      },
      "outputs": [
        {
          "data": {
            "text/plain": [
              "'escape'"
            ]
          },
          "execution_count": 37,
          "metadata": {},
          "output_type": "execute_result"
        }
      ],
      "source": [
        "data[0][29]"
      ]
    },
    {
      "cell_type": "markdown",
      "metadata": {
        "id": "GA1yBw0GvVav"
      },
      "source": [
        "## Stopword Removal"
      ]
    },
    {
      "cell_type": "code",
      "execution_count": 38,
      "metadata": {
        "id": "ErPAMMN1xxf0"
      },
      "outputs": [],
      "source": [
        "def remove_stopwords(tokenized_texts):\n",
        "    stop_words = set(stopwords.words('english'))\n",
        "    return [[word for word in text if word.lower() not in stop_words] for text in tokenized_texts]"
      ]
    },
    {
      "cell_type": "code",
      "execution_count": 39,
      "metadata": {
        "colab": {
          "base_uri": "https://localhost:8080/"
        },
        "id": "0cobf3tQ0x7p",
        "outputId": "782be7a2-afe2-474a-9a3d-094b6553b887"
      },
      "outputs": [
        {
          "data": {
            "text/plain": [
              "['people', 'tried', 'to', 'make', 'me', 'believe', 'that']"
            ]
          },
          "execution_count": 39,
          "metadata": {},
          "output_type": "execute_result"
        }
      ],
      "source": [
        "data[0][:7]"
      ]
    },
    {
      "cell_type": "code",
      "execution_count": 40,
      "metadata": {
        "id": "c1VyjHEC0ugm"
      },
      "outputs": [],
      "source": [
        "data = remove_stopwords(data)"
      ]
    },
    {
      "cell_type": "code",
      "execution_count": 41,
      "metadata": {
        "colab": {
          "base_uri": "https://localhost:8080/"
        },
        "id": "1pqHbS7I0y9W",
        "outputId": "7cb08152-11a1-4741-8a89-4c353a81b9ae"
      },
      "outputs": [
        {
          "data": {
            "text/plain": [
              "['people', 'tried', 'make', 'believe', 'premise', 'rubbishy', 'supernatural']"
            ]
          },
          "execution_count": 41,
          "metadata": {},
          "output_type": "execute_result"
        }
      ],
      "source": [
        "data[0][:7]"
      ]
    },
    {
      "cell_type": "markdown",
      "metadata": {},
      "source": [
        "## Preprocessing Function"
      ]
    },
    {
      "cell_type": "markdown",
      "metadata": {},
      "source": [
        "The lemmatization is not needed as for word2vec it is better to keep the original words"
      ]
    },
    {
      "cell_type": "code",
      "execution_count": 42,
      "metadata": {},
      "outputs": [],
      "source": [
        "def preprocess_data(data):\n",
        "    data = clean_htmls_text_array(data)\n",
        "    data = lowercase_array(data)\n",
        "    data = expand_contractions(data)\n",
        "    data = remove_punctuation(data)\n",
        "    data = tokenize_texts(data)\n",
        "    # data = lemmatize_texts(data)\n",
        "    data = remove_stopwords(data)\n",
        "    return data"
      ]
    },
    {
      "cell_type": "code",
      "execution_count": 43,
      "metadata": {},
      "outputs": [],
      "source": [
        "processed_data = preprocess_data(raw_data)"
      ]
    },
    {
      "cell_type": "code",
      "execution_count": 44,
      "metadata": {},
      "outputs": [
        {
          "data": {
            "image/png": "[encoded data removed]",
            "text/plain": [
              "<Figure size 1000x600 with 1 Axes>"
            ]
          },
          "metadata": {},
          "output_type": "display_data"
        }
      ],
      "source": [
        "plot_word_histogram(processed_data)"
      ]
    },
    {
      "cell_type": "markdown",
      "metadata": {
        "id": "e0-M83k18rhP"
      },
      "source": [
        "# Encoding"
      ]
    },
    {
      "cell_type": "markdown",
      "metadata": {},
      "source": [
        "There is a decision to be made here on the encoding scheme. I will use Word2Vec and GloVe embeddings instead of TF-IDF or Bag-of-Words (BoW) because it produces smaller output dimensions, and now that we have a recurrent network, we can use the concatenated word embeddings as the input for the network."
      ]
    },
    {
      "cell_type": "code",
      "execution_count": 45,
      "metadata": {
        "colab": {
          "base_uri": "https://localhost:8080/"
        },
        "id": "hKUVBHA1B2XU",
        "outputId": "7c433c3a-134a-4826-9ece-39b7b3a9beda"
      },
      "outputs": [
        {
          "data": {
            "text/plain": [
              "(10000,)"
            ]
          },
          "execution_count": 45,
          "metadata": {},
          "output_type": "execute_result"
        }
      ],
      "source": [
        "combined_sentiments = np.concatenate([df['sentiment'].values, test_df['sentiment'].values])\n",
        "combined_sentiments.shape"
      ]
    },
    {
      "cell_type": "markdown",
      "metadata": {},
      "source": [
        "The added parameter aggregate is used to decide if the word embeddings should be aggregated or not."
      ]
    },
    {
      "cell_type": "code",
      "execution_count": 46,
      "metadata": {
        "id": "vP5ZozROezj_"
      },
      "outputs": [],
      "source": [
        "def encode_text(data: List[List[str]], labels: List[str], encoding: str = 'word2vec', train_size: int = 8000, aggregate: bool = True, dimensions: int = 100) -> Tuple:\n",
        "    # Encode the sentiment labels\n",
        "    label_encoder = LabelEncoder()\n",
        "    y_encoded = label_encoder.fit_transform(labels)\n",
        "\n",
        "    # Split the data\n",
        "    X_train = data[:train_size]\n",
        "    X_test = data[train_size:]\n",
        "    y_train = y_encoded[:train_size]\n",
        "    y_test = y_encoded[train_size:]\n",
        "\n",
        "    if encoding == 'word2vec':\n",
        "        # Train Word2Vec model\n",
        "        w2v_model = Word2Vec(sentences=data, vector_size=dimensions, window=5, min_count=1, workers=4)\n",
        "        embeddings = w2v_model.wv\n",
        "        \n",
        "        if aggregate:\n",
        "            def document_vector(doc):\n",
        "                word_vectors = [embeddings[word] for word in doc if word in embeddings]\n",
        "                return np.mean(word_vectors, axis=0) if word_vectors else np.zeros(dimensions)\n",
        "        else:\n",
        "            def word_vectors_for_document(doc):\n",
        "                return np.array([embeddings[word] for word in doc if word in embeddings])\n",
        "\n",
        "    elif encoding == 'glove':\n",
        "        # Load pre-trained GloVe embeddings\n",
        "        embeddings = {}\n",
        "        with open(f'/root/nn4nlp/data/embeddings/glove.6B.{dimensions}d.txt', 'r', encoding='utf-8') as f:\n",
        "            for line in f:\n",
        "                values = line.split()\n",
        "                word = values[0]\n",
        "                vector = np.asarray(values[1:], dtype='float32')\n",
        "                embeddings[word] = vector\n",
        "\n",
        "        if aggregate:\n",
        "            def document_vector(doc):\n",
        "                word_vectors = [embeddings[word] for word in doc if word in embeddings]\n",
        "                return np.mean(word_vectors, axis=0) if word_vectors else np.zeros(dimensions)\n",
        "        else:\n",
        "            def word_vectors_for_document(doc):\n",
        "                return np.array([embeddings[word] for word in doc if word in embeddings])\n",
        "    \n",
        "    else:\n",
        "        raise ValueError(\"encoding must be either 'word2vec' or 'glove'\")\n",
        "\n",
        "    if aggregate:\n",
        "        X_train_encoded = np.array([document_vector(doc) for doc in X_train])\n",
        "        X_test_encoded = np.array([document_vector(doc) for doc in X_test])\n",
        "    else:\n",
        "        X_train_encoded = [word_vectors_for_document(doc) for doc in X_train]\n",
        "        X_test_encoded = [word_vectors_for_document(doc) for doc in X_test]\n",
        "\n",
        "    return (X_train_encoded, X_test_encoded, y_train, y_test)\n"
      ]
    },
    {
      "cell_type": "code",
      "execution_count": 47,
      "metadata": {
        "id": "sVhbl4Mw-WPT"
      },
      "outputs": [],
      "source": [
        "X_train, X_test, y_train, y_test = encode_text(data, combined_sentiments, encoding='word2vec', aggregate=False)"
      ]
    },
    {
      "cell_type": "code",
      "execution_count": 48,
      "metadata": {},
      "outputs": [],
      "source": [
        "X_train, X_test, y_train, y_test = encode_text(data, combined_sentiments, encoding='glove', aggregate=False)"
      ]
    },
    {
      "cell_type": "markdown",
      "metadata": {},
      "source": [
        "With the recurrent network, there is no need to pad the sequences as the network will handle the variable length of the input sequences."
      ]
    },
    {
      "cell_type": "markdown",
      "metadata": {},
      "source": [
        "# Modelling"
      ]
    },
    {
      "cell_type": "markdown",
      "metadata": {},
      "source": [
        "Let's build an Early Stopping class to monitor validation loss and save best model, it will halt the training process when the validation loss does not improve for a given number of epochs: patience."
      ]
    },
    {
      "cell_type": "code",
      "execution_count": 49,
      "metadata": {},
      "outputs": [],
      "source": [
        "# Early stopping class to monitor validation loss and save best model\n",
        "class EarlyStopping:\n",
        "    def __init__(self, patience=5, min_delta=0, checkpoint_path='checkpoint.pt'):\n",
        "        self.patience = patience\n",
        "        self.min_delta = min_delta\n",
        "        self.counter = 0\n",
        "        self.best_loss = None\n",
        "        self.early_stop = False\n",
        "        self.best_model_state = None\n",
        "        self.checkpoint_path = checkpoint_path\n",
        "        \n",
        "    def __call__(self, model, val_loss):\n",
        "        if self.best_loss is None:\n",
        "            self.best_loss = val_loss\n",
        "            self.best_model_state = model.state_dict()\n",
        "            torch.save(self.best_model_state, self.checkpoint_path)\n",
        "        elif val_loss > self.best_loss - self.min_delta:\n",
        "            self.counter += 1\n",
        "            if self.counter >= self.patience:\n",
        "                self.early_stop = True\n",
        "        else:\n",
        "            self.best_loss = val_loss\n",
        "            self.best_model_state = model.state_dict()\n",
        "            torch.save(self.best_model_state, self.checkpoint_path)\n",
        "            self.counter = 0\n",
        "            \n",
        "    def load_best_model(self, model):\n",
        "        model.load_state_dict(torch.load(self.checkpoint_path))\n",
        "        return model"
      ]
    },
    {
      "cell_type": "markdown",
      "metadata": {},
      "source": [
        "This function will train the model and return the best model, the training and validation losses, and the training and validation accuracies. Compared to the previous practice, this function handles variable length sequences by using a custom collate function to pad the sequences to the same length, which increases the training time."
      ]
    },
    {
      "cell_type": "code",
      "execution_count": 50,
      "metadata": {},
      "outputs": [],
      "source": [
        "def train_model(model, X_train, y_train, X_test, y_test, num_epochs=10, batch_size=32, patience=5, verbose=False):\n",
        "    # Initialize loss tracking\n",
        "    train_losses = []\n",
        "    test_losses = []\n",
        "    train_accuracies = []\n",
        "    test_accuracies = []\n",
        "    \n",
        "    # Define loss function and optimizer\n",
        "    criterion = nn.BCELoss()\n",
        "    optimizer = torch.optim.Adam(model.parameters())\n",
        "\n",
        "    # Initialize early stopping\n",
        "    early_stopping = EarlyStopping(patience=patience)\n",
        "\n",
        "    # Convert labels to tensors\n",
        "    y_train_tensor = torch.FloatTensor(y_train)\n",
        "    y_test_tensor = torch.FloatTensor(y_test)\n",
        "\n",
        "    # Create custom collate function to handle variable length sequences\n",
        "    def collate_fn(batch):\n",
        "        # Separate sequences and labels\n",
        "        sequences = [torch.FloatTensor(item[0]) for item in batch]\n",
        "        labels = torch.FloatTensor([item[1] for item in batch])\n",
        "        return sequences, labels\n",
        "\n",
        "    # Create data loaders with custom collate function\n",
        "    train_dataset = list(zip(X_train, y_train))\n",
        "    test_dataset = list(zip(X_test, y_test))\n",
        "    train_loader = DataLoader(train_dataset, batch_size=batch_size, shuffle=True, collate_fn=collate_fn)\n",
        "    test_loader = DataLoader(test_dataset, batch_size=batch_size, collate_fn=collate_fn)\n",
        "\n",
        "    for epoch in range(num_epochs):\n",
        "        model.train()\n",
        "        total_train_loss = 0\n",
        "        train_correct = 0\n",
        "        train_total = 0\n",
        "        \n",
        "        for batch_X, batch_y in train_loader:\n",
        "            # Process each sequence individually\n",
        "            batch_outputs = []\n",
        "            for sequence in batch_X:\n",
        "                # Add batch dimension\n",
        "                sequence = sequence.unsqueeze(0)\n",
        "                # Get output\n",
        "                output = model(sequence).squeeze()\n",
        "                batch_outputs.append(output)\n",
        "            \n",
        "            # Stack outputs\n",
        "            outputs = torch.stack(batch_outputs).squeeze()\n",
        "            \n",
        "            # Calculate loss\n",
        "            loss = criterion(outputs, batch_y)\n",
        "            \n",
        "            # Backward pass and optimization\n",
        "            optimizer.zero_grad()\n",
        "            loss.backward()\n",
        "            optimizer.step()\n",
        "            \n",
        "            total_train_loss += loss.item()\n",
        "            \n",
        "            # Calculate training accuracy\n",
        "            predicted = (outputs >= 0.5).float()\n",
        "            train_total += batch_y.size(0)\n",
        "            train_correct += (predicted == batch_y).sum().item()\n",
        "        \n",
        "        # Evaluate on test set\n",
        "        model.eval()\n",
        "        total_test_loss = 0\n",
        "        test_correct = 0\n",
        "        test_total = 0\n",
        "        \n",
        "        with torch.no_grad():\n",
        "            for batch_X, batch_y in test_loader:\n",
        "                # Process each sequence individually\n",
        "                batch_outputs = []\n",
        "                for sequence in batch_X:\n",
        "                    # Add batch dimension\n",
        "                    sequence = sequence.unsqueeze(0)\n",
        "                    # Get output\n",
        "                    output = model(sequence).squeeze()\n",
        "                    batch_outputs.append(output)\n",
        "                \n",
        "                # Stack outputs\n",
        "                outputs = torch.stack(batch_outputs).squeeze()\n",
        "                \n",
        "                loss = criterion(outputs, batch_y)\n",
        "                total_test_loss += loss.item()\n",
        "                \n",
        "                predicted = (outputs >= 0.5).float()\n",
        "                test_total += batch_y.size(0)\n",
        "                test_correct += (predicted == batch_y).sum().item()\n",
        "        \n",
        "        # Calculate average losses and accuracies\n",
        "        avg_train_loss = total_train_loss / len(train_loader)\n",
        "        avg_test_loss = total_test_loss / len(test_loader)\n",
        "        train_accuracy = 100 * train_correct / train_total\n",
        "        test_accuracy = 100 * test_correct / test_total\n",
        "        \n",
        "        train_losses.append(avg_train_loss)\n",
        "        test_losses.append(avg_test_loss)\n",
        "        train_accuracies.append(train_accuracy)\n",
        "        test_accuracies.append(test_accuracy)\n",
        "        \n",
        "        if verbose:\n",
        "            print(f'Epoch [{epoch+1}/{num_epochs}]')\n",
        "            print(f'Training Loss: {avg_train_loss:.4f}')\n",
        "            print(f'Test Loss: {avg_test_loss:.4f}')\n",
        "            print(f'Training Accuracy: {train_accuracy:.2f}%')\n",
        "            print(f'Test Accuracy: {test_accuracy:.2f}%')\n",
        "            print('-' * 50)\n",
        "\n",
        "        # Early stopping check\n",
        "        early_stopping(model=model, val_loss=avg_test_loss)\n",
        "        if early_stopping.early_stop:\n",
        "            if verbose:\n",
        "                print(\"Early stopping triggered\")\n",
        "            break\n",
        "\n",
        "    # Plot training and test losses\n",
        "    if verbose:\n",
        "        plt.figure(figsize=(10, 6))\n",
        "        plt.plot(train_losses, label='Training Loss')\n",
        "        plt.plot(test_losses, label='Test Loss')\n",
        "        plt.xlabel('Epoch')\n",
        "        plt.ylabel('Loss')\n",
        "        plt.title('Training and Test Loss Over Time')\n",
        "        plt.legend()\n",
        "        plt.show()\n",
        "    \n",
        "    # Load the best model before returning and remove the checkpoint file\n",
        "    model.load_state_dict(torch.load('checkpoint.pt'))\n",
        "    os.remove('checkpoint.pt')\n",
        "    \n",
        "    return model, train_losses, test_losses, train_accuracies, test_accuracies"
      ]
    },
    {
      "cell_type": "markdown",
      "metadata": {},
      "source": [
        "We believe GRUs wouldn't be a good choice as they are not able to handle long-term dependencies because of vanishing gradients, and some of the reviews of this dataset are quite long. So the models we're going to try are LSTM and GRUs, both with the possibility of being bidirectional and stacked."
      ]
    },
    {
      "cell_type": "markdown",
      "metadata": {},
      "source": [
        "# SentimentLSTM\n",
        "\n",
        "The SentimentLSTM class takes the following parameters:\n",
        "\n",
        "- `input_size` (default=100): The dimensionality of word embeddings used as input\n",
        "\n",
        "- `hidden_size` (default=64): The number of hidden units in each LSTM layer\n",
        "\n",
        "- `num_layers` (default=2): The number of stacked LSTM layers in the model\n",
        "\n",
        "- `dropout_rate` (default=0.5): The probability of dropping out neurons during training to prevent overfitting\n",
        "\n",
        "- `bidirectional` (default=True): Whether to use bidirectional LSTM layers that process sequences in both directions\n",
        "\n",
        "The model architecture consists of:\n",
        "1. Stacked LSTM layers with configurable hidden size and bidirectional processing\n",
        "2. A fully connected layer with ReLU activation and dropout\n",
        "3. A final output layer with sigmoid activation for binary classification\n",
        "\n"
      ]
    },
    {
      "cell_type": "code",
      "execution_count": 51,
      "metadata": {},
      "outputs": [],
      "source": [
        "# Create an LSTM model            \n",
        "class SentimentLSTM(nn.Module):\n",
        "\n",
        "    def __init__(self, \n",
        "                 input_size=100,\n",
        "                 hidden_size=64,\n",
        "                 num_layers=2,\n",
        "                 dropout_rate=0.5,\n",
        "                 bidirectional=True):\n",
        "        super(SentimentLSTM, self).__init__()\n",
        "        \n",
        "        # LSTM layer\n",
        "        self.lstm = nn.LSTM(input_size=input_size,\n",
        "                           hidden_size=hidden_size,\n",
        "                           num_layers=num_layers,\n",
        "                           batch_first=True,\n",
        "                           dropout=dropout_rate if num_layers > 1 else 0,\n",
        "                           bidirectional=bidirectional)\n",
        "        \n",
        "        # Calculate output features size based on bidirectional\n",
        "        lstm_output_size = hidden_size * 2 if bidirectional else hidden_size\n",
        "        \n",
        "        # Dense layer\n",
        "        self.fc = nn.Sequential(\n",
        "            nn.Linear(lstm_output_size, hidden_size),\n",
        "            nn.ReLU(),\n",
        "            nn.Dropout(dropout_rate)\n",
        "        )\n",
        "            \n",
        "        # Output layer\n",
        "        self.output_layer = nn.Sequential(\n",
        "            nn.Linear(hidden_size, 1),\n",
        "            nn.Sigmoid()\n",
        "        )\n",
        "        \n",
        "    def forward(self, x):\n",
        "        # LSTM layer\n",
        "        lstm_out, _ = self.lstm(x)\n",
        "        \n",
        "        # Take the output from the last time step\n",
        "        lstm_out = lstm_out[:, -1, :]\n",
        "        \n",
        "        # Dense layer\n",
        "        x = self.fc(lstm_out)\n",
        "            \n",
        "        # Output layer\n",
        "        x = self.output_layer(x)\n",
        "        \n",
        "        return x"
      ]
    },
    {
      "cell_type": "markdown",
      "metadata": {},
      "source": [
        "Example of a SentimentLSTM model:"
      ]
    },
    {
      "cell_type": "code",
      "execution_count": 52,
      "metadata": {},
      "outputs": [
        {
          "name": "stdout",
          "output_type": "stream",
          "text": [
            "Epoch [1/10]\n",
            "Training Loss: 0.6111\n",
            "Test Loss: 0.6107\n",
            "Training Accuracy: 65.58%\n",
            "Test Accuracy: 67.60%\n",
            "--------------------------------------------------\n",
            "Epoch [2/10]\n",
            "Training Loss: 0.5267\n",
            "Test Loss: 0.5915\n",
            "Training Accuracy: 74.94%\n",
            "Test Accuracy: 69.15%\n",
            "--------------------------------------------------\n",
            "Epoch [3/10]\n",
            "Training Loss: 0.5561\n",
            "Test Loss: 0.6546\n",
            "Training Accuracy: 72.85%\n",
            "Test Accuracy: 63.30%\n",
            "--------------------------------------------------\n",
            "Epoch [4/10]\n",
            "Training Loss: 0.5020\n",
            "Test Loss: 0.4671\n",
            "Training Accuracy: 76.70%\n",
            "Test Accuracy: 77.20%\n",
            "--------------------------------------------------\n",
            "Epoch [5/10]\n",
            "Training Loss: 0.4473\n",
            "Test Loss: 0.4374\n",
            "Training Accuracy: 79.58%\n",
            "Test Accuracy: 80.80%\n",
            "--------------------------------------------------\n",
            "Epoch [6/10]\n",
            "Training Loss: 0.3990\n",
            "Test Loss: 0.4158\n",
            "Training Accuracy: 82.44%\n",
            "Test Accuracy: 81.20%\n",
            "--------------------------------------------------\n",
            "Epoch [7/10]\n",
            "Training Loss: 0.3760\n",
            "Test Loss: 0.3980\n",
            "Training Accuracy: 84.19%\n",
            "Test Accuracy: 82.90%\n",
            "--------------------------------------------------\n",
            "Epoch [8/10]\n",
            "Training Loss: 0.3429\n",
            "Test Loss: 0.3877\n",
            "Training Accuracy: 85.54%\n",
            "Test Accuracy: 83.15%\n",
            "--------------------------------------------------\n",
            "Epoch [9/10]\n",
            "Training Loss: 0.3237\n",
            "Test Loss: 0.3748\n",
            "Training Accuracy: 86.53%\n",
            "Test Accuracy: 85.25%\n",
            "--------------------------------------------------\n",
            "Epoch [10/10]\n",
            "Training Loss: 0.3022\n",
            "Test Loss: 0.3767\n",
            "Training Accuracy: 87.36%\n",
            "Test Accuracy: 84.60%\n",
            "--------------------------------------------------\n"
          ]
        },
        {
          "data": {
            "image/png": "[encoded data removed]",
            "text/plain": [
              "<Figure size 1000x600 with 1 Axes>"
            ]
          },
          "metadata": {},
          "output_type": "display_data"
        }
      ],
      "source": [
        "model = SentimentLSTM()\n",
        "criterion = nn.BCELoss()\n",
        "optimizer = torch.optim.Adam(model.parameters())\n",
        "\n",
        "lstm_model, lstm_train_losses, lstm_test_losses, lstm_train_accuracies, lstm_test_accuracies = train_model(model, X_train, y_train, X_test, y_test, num_epochs=10, verbose=True)"
      ]
    },
    {
      "cell_type": "code",
      "execution_count": 53,
      "metadata": {},
      "outputs": [],
      "source": [
        "# Save lstm model\n",
        "torch.save(lstm_model, '/root/nn4nlp/models/03_lstm_model.pt')\n",
        "lstm_model = torch.load('/root/nn4nlp/models/03_lstm_model.pt')"
      ]
    },
    {
      "cell_type": "markdown",
      "metadata": {},
      "source": [
        "# SentimentGRU\n",
        "\n",
        "The SentimentGRU class takes the following parameters:\n",
        "\n",
        "- `input_size` (default=100): The dimensionality of word embeddings used as input\n",
        "\n",
        "- `hidden_size` (default=64): The number of hidden units in each GRU layer\n",
        "\n",
        "- `num_layers` (default=1): The number of stacked GRU layers in the model\n",
        "\n",
        "- `dropout_rate` (default=0.5): The probability of dropping out neurons during training to prevent overfitting\n",
        "\n",
        "- `bidirectional` (default=True): Whether to use bidirectional GRU layers that process sequences in both directions\n",
        "\n",
        "The model architecture consists of:\n",
        "1. Stacked GRU layers with configurable hidden size and bidirectional processing\n",
        "2. A fully connected layer with ReLU activation and dropout\n",
        "3. A final output layer with sigmoid activation for binary classification\n"
      ]
    },
    {
      "cell_type": "code",
      "execution_count": 54,
      "metadata": {},
      "outputs": [],
      "source": [
        "class SentimentGRU(nn.Module):\n",
        "\n",
        "    def __init__(self, \n",
        "                 input_size=100,\n",
        "                 hidden_size=64,\n",
        "                 num_layers=1,\n",
        "                 dropout_rate=0.5,\n",
        "                 bidirectional=True):\n",
        "        super(SentimentGRU, self).__init__()\n",
        "        \n",
        "        # GRU layer\n",
        "        self.gru = nn.GRU(input_size=input_size,\n",
        "                         hidden_size=hidden_size,\n",
        "                         num_layers=num_layers,\n",
        "                         batch_first=True,\n",
        "                         dropout=dropout_rate if num_layers > 1 else 0,\n",
        "                         bidirectional=bidirectional)\n",
        "        \n",
        "        # Calculate output features size based on bidirectional\n",
        "        gru_output_size = hidden_size * 2 if bidirectional else hidden_size\n",
        "        \n",
        "        # Dense layer\n",
        "        self.fc = nn.Sequential(\n",
        "            nn.Linear(gru_output_size, hidden_size),\n",
        "            nn.ReLU(),\n",
        "            nn.Dropout(dropout_rate)\n",
        "        )\n",
        "            \n",
        "        # Output layer\n",
        "        self.output_layer = nn.Sequential(\n",
        "            nn.Linear(hidden_size, 1),\n",
        "            nn.Sigmoid()\n",
        "        )\n",
        "        \n",
        "    def forward(self, x):\n",
        "        # GRU layer\n",
        "        gru_out, _ = self.gru(x)\n",
        "        \n",
        "        # Take the output from the last time step\n",
        "        gru_out = gru_out[:, -1, :]\n",
        "        \n",
        "        # Dense layer\n",
        "        x = self.fc(gru_out)\n",
        "            \n",
        "        # Output layer\n",
        "        x = self.output_layer(x)\n",
        "        \n",
        "        return x"
      ]
    },
    {
      "cell_type": "markdown",
      "metadata": {},
      "source": [
        "Example of a SentimentGRU model:"
      ]
    },
    {
      "cell_type": "code",
      "execution_count": 55,
      "metadata": {},
      "outputs": [
        {
          "name": "stdout",
          "output_type": "stream",
          "text": [
            "Epoch [1/10]\n",
            "Training Loss: 0.5653\n",
            "Test Loss: 0.4717\n",
            "Training Accuracy: 70.91%\n",
            "Test Accuracy: 77.95%\n",
            "--------------------------------------------------\n",
            "Epoch [2/10]\n",
            "Training Loss: 0.4356\n",
            "Test Loss: 0.4154\n",
            "Training Accuracy: 80.36%\n",
            "Test Accuracy: 81.95%\n",
            "--------------------------------------------------\n",
            "Epoch [3/10]\n",
            "Training Loss: 0.3756\n",
            "Test Loss: 0.3770\n",
            "Training Accuracy: 83.55%\n",
            "Test Accuracy: 84.10%\n",
            "--------------------------------------------------\n",
            "Epoch [4/10]\n",
            "Training Loss: 0.3420\n",
            "Test Loss: 0.3955\n",
            "Training Accuracy: 85.96%\n",
            "Test Accuracy: 82.75%\n",
            "--------------------------------------------------\n",
            "Epoch [5/10]\n",
            "Training Loss: 0.3170\n",
            "Test Loss: 0.3649\n",
            "Training Accuracy: 86.47%\n",
            "Test Accuracy: 84.65%\n",
            "--------------------------------------------------\n",
            "Epoch [6/10]\n",
            "Training Loss: 0.2916\n",
            "Test Loss: 0.4049\n",
            "Training Accuracy: 87.69%\n",
            "Test Accuracy: 83.00%\n",
            "--------------------------------------------------\n",
            "Epoch [7/10]\n",
            "Training Loss: 0.2706\n",
            "Test Loss: 0.4059\n",
            "Training Accuracy: 89.01%\n",
            "Test Accuracy: 83.80%\n",
            "--------------------------------------------------\n",
            "Epoch [8/10]\n",
            "Training Loss: 0.2415\n",
            "Test Loss: 0.3833\n",
            "Training Accuracy: 90.17%\n",
            "Test Accuracy: 85.20%\n",
            "--------------------------------------------------\n",
            "Epoch [9/10]\n",
            "Training Loss: 0.2176\n",
            "Test Loss: 0.3860\n",
            "Training Accuracy: 91.21%\n",
            "Test Accuracy: 85.10%\n",
            "--------------------------------------------------\n",
            "Epoch [10/10]\n",
            "Training Loss: 0.1804\n",
            "Test Loss: 0.4446\n",
            "Training Accuracy: 92.74%\n",
            "Test Accuracy: 85.05%\n",
            "--------------------------------------------------\n",
            "Early stopping triggered\n"
          ]
        },
        {
          "data": {
            "image/png": "[encoded data removed]",
            "text/plain": [
              "<Figure size 1000x600 with 1 Axes>"
            ]
          },
          "metadata": {},
          "output_type": "display_data"
        }
      ],
      "source": [
        "model = SentimentGRU()\n",
        "criterion = nn.BCELoss()\n",
        "optimizer = torch.optim.Adam(model.parameters())\n",
        "\n",
        "gru_model, gru_train_losses, gru_test_losses, gru_train_accuracies, gru_test_accuracies = train_model(model, X_train, y_train, X_test, y_test, num_epochs=10, verbose=True)"
      ]
    },
    {
      "cell_type": "code",
      "execution_count": 56,
      "metadata": {},
      "outputs": [],
      "source": [
        "# Save gru model\n",
        "torch.save(gru_model, '/root/nn4nlp/models/03_gru_model.pt')\n",
        "gru_model = torch.load('/root/nn4nlp/models/03_gru_model.pt')"
      ]
    },
    {
      "cell_type": "markdown",
      "metadata": {},
      "source": [
        "# SentimentRNN\n",
        "\n",
        "The SentimentRNN class takes the following parameters:\n",
        "\n",
        "- `input_size` (default=100): The dimensionality of word embeddings used as input\n",
        "\n",
        "- `hidden_size` (default=64): The number of hidden units in each RNN layer\n",
        "\n",
        "- `num_layers` (default=2): The number of stacked RNN layers in the model\n",
        "\n",
        "- `dropout_rate` (default=0.5): The probability of dropping out neurons during training to prevent overfitting\n",
        "\n",
        "- `rnn_type` (default='lstm'): The type of RNN layer to use, either 'lstm' or 'gru'\n",
        "\n",
        "- `bidirectional` (default=True): Whether to use bidirectional RNN layers that process sequences in both directions \n",
        "\n",
        "The model architecture consists of:\n",
        "1. Stacked RNN layers with configurable hidden size and bidirectional processing\n",
        "2. A fully connected layer with ReLU activation and dropout\n",
        "3. A final output layer with sigmoid activation for binary classification\n"
      ]
    },
    {
      "cell_type": "code",
      "execution_count": 57,
      "metadata": {},
      "outputs": [],
      "source": [
        "class SentimentRNN(nn.Module):\n",
        "    def __init__(self,\n",
        "                 input_size=100,\n",
        "                 hidden_size=64,\n",
        "                 num_layers=1,\n",
        "                 dropout_rate=0.5,\n",
        "                 rnn_type='lstm',\n",
        "                 bidirectional=True):\n",
        "        super(SentimentRNN, self).__init__()\n",
        "        \n",
        "        self.rnn_type = rnn_type.lower()\n",
        "        \n",
        "        # Choose RNN type\n",
        "        if self.rnn_type == 'lstm':\n",
        "            rnn_layer = nn.LSTM\n",
        "        elif self.rnn_type == 'gru':\n",
        "            rnn_layer = nn.GRU\n",
        "        else:\n",
        "            raise ValueError(\"rnn_type must be either 'lstm' or 'gru'\")\n",
        "            \n",
        "        # Stacked RNN layers\n",
        "        self.rnn = rnn_layer(input_size=input_size,\n",
        "                           hidden_size=hidden_size,\n",
        "                           num_layers=num_layers,\n",
        "                           batch_first=True,\n",
        "                           dropout=dropout_rate if num_layers > 1 else 0,\n",
        "                           bidirectional=bidirectional)\n",
        "        \n",
        "        # Calculate output features size based on bidirectional\n",
        "        rnn_output_size = hidden_size * 2 if bidirectional else hidden_size\n",
        "        \n",
        "        # Dense layer\n",
        "        self.fc = nn.Sequential(\n",
        "            nn.Linear(rnn_output_size, hidden_size),\n",
        "            nn.ReLU(),\n",
        "            nn.Dropout(dropout_rate)\n",
        "        )\n",
        "            \n",
        "        # Output layer\n",
        "        self.output_layer = nn.Sequential(\n",
        "            nn.Linear(hidden_size, 1),\n",
        "            nn.Sigmoid()\n",
        "        )\n",
        "        \n",
        "    def forward(self, x):\n",
        "        # RNN layers\n",
        "        rnn_out, _ = self.rnn(x)\n",
        "        \n",
        "        # Take the output from the last time step\n",
        "        rnn_out = rnn_out[:, -1, :]\n",
        "        \n",
        "        # Dense layer\n",
        "        x = self.fc(rnn_out)\n",
        "            \n",
        "        # Output layer\n",
        "        x = self.output_layer(x)\n",
        "        \n",
        "        return x"
      ]
    },
    {
      "cell_type": "markdown",
      "metadata": {},
      "source": [
        "The class above is a combination of SentimentLSTM and SentimentGRU, so it can be used as either LSTM or GRU."
      ]
    },
    {
      "cell_type": "markdown",
      "metadata": {},
      "source": [
        "# Grid Search"
      ]
    },
    {
      "cell_type": "markdown",
      "metadata": {},
      "source": [
        "The following parameter grid have been chosen because they are the most important parameters to consider when training a recurrent network."
      ]
    },
    {
      "cell_type": "code",
      "execution_count": 58,
      "metadata": {},
      "outputs": [],
      "source": [
        "# Define parameter grid\n",
        "PARAM_GRID = {\n",
        "    'encoding': ['glove', 'word2vec'],\n",
        "    'dimensions_embedding': [100],\n",
        "    'hidden_size': [64, 128],\n",
        "    'num_layers': [1, 2],\n",
        "    'dropout_rate': [0.2],\n",
        "    'rnn_type': ['lstm', 'gru'],\n",
        "    'bidirectional': [True, False]\n",
        "}\n",
        "\n",
        "num_epochs = 10\n",
        "patience = 5"
      ]
    },
    {
      "cell_type": "code",
      "execution_count": 59,
      "metadata": {},
      "outputs": [],
      "source": [
        "def grid_search_sentiment_rnn(processed_data, combined_sentiments, num_epochs=num_epochs, patience=patience, verbose=False):\n",
        "    # Replace full param grid with test grid if specified\n",
        "    param_grid = PARAM_GRID\n",
        "\n",
        "    # Store results\n",
        "    results = []\n",
        "    best_model = None\n",
        "\n",
        "    # Grid search\n",
        "    for encoding in param_grid['encoding']:\n",
        "        for dimensions_embedding in param_grid['dimensions_embedding']:\n",
        "            for hidden_size in param_grid['hidden_size']:\n",
        "                for num_layers in param_grid['num_layers']:\n",
        "                    for dropout_rate in param_grid['dropout_rate']:\n",
        "                        for rnn_type in param_grid['rnn_type']:\n",
        "                            for bidirectional in param_grid['bidirectional']:\n",
        "\n",
        "                                # Data\n",
        "                                X_train, X_test, y_train, y_test = encode_text(\n",
        "                                    processed_data,\n",
        "                                    combined_sentiments,\n",
        "                                    train_size=8000,\n",
        "                                    aggregate=False,\n",
        "                                    dimensions=dimensions_embedding,\n",
        "                                    encoding=encoding)\n",
        "\n",
        "                                # Initialize model with current parameters\n",
        "                                model = SentimentRNN(\n",
        "                                    input_size=dimensions_embedding,\n",
        "                                    hidden_size=hidden_size,\n",
        "                                    num_layers=num_layers,\n",
        "                                    dropout_rate=dropout_rate,\n",
        "                                    rnn_type=rnn_type,\n",
        "                                    bidirectional=bidirectional\n",
        "                                )\n",
        "                                \n",
        "                                # Train model\n",
        "                                train_losses = []\n",
        "                                test_losses = []\n",
        "                                train_accuracies = []\n",
        "                                test_accuracies = []\n",
        "                                \n",
        "                                # Train model\n",
        "                                model, train_losses, test_losses, train_accuracies, test_accuracies = train_model(\n",
        "                                    model, \n",
        "                                    X_train, \n",
        "                                    y_train, \n",
        "                                    X_test, \n",
        "                                    y_test, \n",
        "                                    num_epochs=num_epochs,\n",
        "                                    patience=patience,\n",
        "                                    verbose=verbose\n",
        "                                )\n",
        "                                                                \n",
        "                                # Store results\n",
        "                                result = {\n",
        "                                    'encoding': encoding,\n",
        "                                    'dimensions_embedding': dimensions_embedding,\n",
        "                                    'hidden_size': hidden_size,\n",
        "                                    'num_layers': num_layers,\n",
        "                                    'dropout_rate': dropout_rate,\n",
        "                                    'rnn_type': rnn_type,\n",
        "                                    'bidirectional': bidirectional,\n",
        "                                    'final_train_loss': min(train_losses),\n",
        "                                    'final_test_loss': min(test_losses),\n",
        "                                    'final_train_accuracy': max(train_accuracies),\n",
        "                                    'final_test_accuracy': max(test_accuracies)\n",
        "                                }\n",
        "                                results.append(result)\n",
        "                                \n",
        "                                # Update best model if current is better\n",
        "                                if not best_model or result['final_test_accuracy'] > best_result['final_test_accuracy']:\n",
        "                                    best_model = model\n",
        "                                    best_result = result\n",
        "\n",
        "    # Find best model based on test accuracy\n",
        "    best_result = max(results, key=lambda x: x['final_test_accuracy'])\n",
        "    print(\"\\nBest parameters:\")\n",
        "    print(f\"Model parameters:\")\n",
        "    print(f\"Hidden size: {best_result['hidden_size']}\")\n",
        "    print(f\"Number of layers: {best_result['num_layers']}\")\n",
        "    print(f\"RNN type: {best_result['rnn_type']}\")\n",
        "    print(f\"Bidirectional: {best_result['bidirectional']}\")\n",
        "    print(f\"Dropout rate: {best_result['dropout_rate']}\")\n",
        "    print(f\"\\nData parameters:\")\n",
        "    print(f\"Encoding: {best_result['encoding']}\")\n",
        "    print(f\"Embedding dimensions: {best_result['dimensions_embedding']}\")\n",
        "    print(f\"\\nResults:\")\n",
        "    print(f\"Test loss: {best_result['final_test_loss']:.4f}\")\n",
        "    print(f\"Train accuracy: {best_result['final_train_accuracy']:.4f}\")\n",
        "    print(f\"Test accuracy: {best_result['final_test_accuracy']:.4f}\")\n",
        "\n",
        "    # Return best model and parameters\n",
        "    best_params = {\n",
        "        'model_params': {\n",
        "            'hidden_size': best_result['hidden_size'],\n",
        "            'num_layers': best_result['num_layers'],\n",
        "            'rnn_type': best_result['rnn_type'],\n",
        "            'bidirectional': best_result['bidirectional'],\n",
        "            'dropout_rate': best_result['dropout_rate']\n",
        "        },\n",
        "        'data_params': {\n",
        "            'encoding': best_result['encoding'],\n",
        "            'dimensions_embedding': best_result['dimensions_embedding']\n",
        "        }\n",
        "    }\n",
        "\n",
        "    return best_model, best_params"
      ]
    },
    {
      "cell_type": "markdown",
      "metadata": {},
      "source": [
        "The test acuraccy of the best model is 0.84, which is not bad for such a small model, but it could be improved with more parameters and more data."
      ]
    },
    {
      "cell_type": "code",
      "execution_count": 60,
      "metadata": {},
      "outputs": [
        {
          "name": "stdout",
          "output_type": "stream",
          "text": [
            "\n",
            "Best parameters:\n",
            "Model parameters:\n",
            "Hidden size: 128\n",
            "Number of layers: 1\n",
            "RNN type: gru\n",
            "Bidirectional: False\n",
            "Dropout rate: 0.2\n",
            "\n",
            "Data parameters:\n",
            "Encoding: glove\n",
            "Embedding dimensions: 100\n",
            "\n",
            "Results:\n",
            "Test loss: 0.3637\n",
            "Train accuracy: 94.2875\n",
            "Test accuracy: 85.7500\n"
          ]
        }
      ],
      "source": [
        "best_model, best_params = grid_search_sentiment_rnn(processed_data, combined_sentiments, num_epochs=num_epochs, patience=patience)"
      ]
    },
    {
      "cell_type": "code",
      "execution_count": 61,
      "metadata": {},
      "outputs": [],
      "source": [
        "# Save best model and load it\n",
        "torch.save(best_model, '/root/nn4nlp/models/03_best_model.pt')\n",
        "best_model = torch.load('/root/nn4nlp/models/03_best_model.pt')"
      ]
    },
    {
      "cell_type": "markdown",
      "metadata": {},
      "source": [
        "# Model Analysis"
      ]
    },
    {
      "cell_type": "markdown",
      "metadata": {},
      "source": [
        "Let's analyze the 3 models we have trained."
      ]
    },
    {
      "cell_type": "code",
      "execution_count": 75,
      "metadata": {},
      "outputs": [],
      "source": [
        "def count_parameters(model):\n",
        "    return sum(p.numel() for p in model.parameters() if p.requires_grad)"
      ]
    },
    {
      "cell_type": "code",
      "execution_count": 76,
      "metadata": {},
      "outputs": [],
      "source": [
        "def plot_training_history(train_losses, test_losses, model_name=\"Model\"):\n",
        "    \"\"\"\n",
        "    Plot training and validation losses with peak performance indicators\n",
        "    \n",
        "    Args:\n",
        "        train_losses (list): List containing training losses\n",
        "        test_losses (list): List containing validation losses\n",
        "        model_name (str): Name of the model for the plot title\n",
        "    \"\"\"\n",
        "    fig, ax = plt.subplots(figsize=(15, 5))\n",
        "    \n",
        "    # Plot losses\n",
        "    ax.plot(train_losses, label='Training Loss')\n",
        "    ax.plot(test_losses, label='Validation Loss')\n",
        "    \n",
        "    # Best validation loss\n",
        "    best_loss = min(test_losses)\n",
        "    best_loss_epoch = test_losses.index(best_loss)\n",
        "    \n",
        "    ax.axhline(y=best_loss, color='r', linestyle='--',\n",
        "                label=f'Best Val Loss: {best_loss:.3f}')\n",
        "    ax.axvline(x=best_loss_epoch, color='g', linestyle='--',\n",
        "                label=f'Best Epoch: {best_loss_epoch}')\n",
        "    \n",
        "    ax.set_xlabel('Epoch')\n",
        "    ax.set_ylabel('Loss')\n",
        "    ax.set_title('Loss History')\n",
        "    ax.legend()\n",
        "    ax.grid(True)\n",
        "    \n",
        "    plt.suptitle(f'{model_name} Training History')\n",
        "    plt.tight_layout()\n",
        "    plt.show()"
      ]
    },
    {
      "cell_type": "markdown",
      "metadata": {},
      "source": [
        "## SentimentLSTM\n",
        "\n",
        "The SentimentLSTM trained as an example uses these parameters:\n",
        "\n",
        "- `input_size` = 100\n",
        "- `hidden_size` = 64\n",
        "- `num_layers` = 2\n",
        "- `dropout_rate` = 0.5\n",
        "- `bidirectional` = True"
      ]
    },
    {
      "cell_type": "code",
      "execution_count": 73,
      "metadata": {},
      "outputs": [
        {
          "name": "stdout",
          "output_type": "stream",
          "text": [
            "The model has 192,641 trainable parameters\n",
            "\n",
            "Model Architecture:\n",
            "SentimentLSTM(\n",
            "  (lstm): LSTM(100, 64, num_layers=2, batch_first=True, dropout=0.5, bidirectional=True)\n",
            "  (fc): Sequential(\n",
            "    (0): Linear(in_features=128, out_features=64, bias=True)\n",
            "    (1): ReLU()\n",
            "    (2): Dropout(p=0.5, inplace=False)\n",
            "  )\n",
            "  (output_layer): Sequential(\n",
            "    (0): Linear(in_features=64, out_features=1, bias=True)\n",
            "    (1): Sigmoid()\n",
            "  )\n",
            ")\n"
          ]
        },
        {
          "data": {
            "image/png": "[encoded data removed]",
            "text/plain": [
              "<Figure size 1500x500 with 1 Axes>"
            ]
          },
          "metadata": {},
          "output_type": "display_data"
        }
      ],
      "source": [
        "print(f'The model has {count_parameters(lstm_model):,} trainable parameters')\n",
        "\n",
        "# Print model architecture\n",
        "print('\\nModel Architecture:')\n",
        "print(lstm_model)\n",
        "\n",
        "# Plot training history\n",
        "plot_training_history(lstm_train_losses, lstm_test_losses, \"LSTM\")"
      ]
    },
    {
      "cell_type": "markdown",
      "metadata": {},
      "source": [
        "The model is not overfitting, as the early stopping didnt trigger. It could be that the model is underfitting, and the acuraccy loss could still be improved, so let's train it for more epochs."
      ]
    },
    {
      "cell_type": "code",
      "execution_count": 74,
      "metadata": {},
      "outputs": [
        {
          "name": "stdout",
          "output_type": "stream",
          "text": [
            "Epoch [1/10]\n",
            "Training Loss: 0.3086\n",
            "Test Loss: 0.4312\n",
            "Training Accuracy: 87.31%\n",
            "Test Accuracy: 81.95%\n",
            "--------------------------------------------------\n",
            "Epoch [2/10]\n",
            "Training Loss: 0.2902\n",
            "Test Loss: 0.4024\n",
            "Training Accuracy: 87.92%\n",
            "Test Accuracy: 82.70%\n",
            "--------------------------------------------------\n",
            "Epoch [3/10]\n",
            "Training Loss: 0.2696\n",
            "Test Loss: 0.4135\n",
            "Training Accuracy: 88.86%\n",
            "Test Accuracy: 83.15%\n",
            "--------------------------------------------------\n",
            "Epoch [4/10]\n",
            "Training Loss: 0.2480\n",
            "Test Loss: 0.3783\n",
            "Training Accuracy: 90.38%\n",
            "Test Accuracy: 85.30%\n",
            "--------------------------------------------------\n",
            "Epoch [5/10]\n",
            "Training Loss: 0.2228\n",
            "Test Loss: 0.3869\n",
            "Training Accuracy: 91.01%\n",
            "Test Accuracy: 85.60%\n",
            "--------------------------------------------------\n",
            "Epoch [6/10]\n",
            "Training Loss: 0.1991\n",
            "Test Loss: 0.4589\n",
            "Training Accuracy: 91.94%\n",
            "Test Accuracy: 84.65%\n",
            "--------------------------------------------------\n",
            "Epoch [7/10]\n",
            "Training Loss: 0.1774\n",
            "Test Loss: 0.5262\n",
            "Training Accuracy: 93.49%\n",
            "Test Accuracy: 81.70%\n",
            "--------------------------------------------------\n",
            "Epoch [8/10]\n",
            "Training Loss: 0.1517\n",
            "Test Loss: 0.5912\n",
            "Training Accuracy: 94.46%\n",
            "Test Accuracy: 83.30%\n",
            "--------------------------------------------------\n",
            "Epoch [9/10]\n",
            "Training Loss: 0.1493\n",
            "Test Loss: 0.5098\n",
            "Training Accuracy: 94.33%\n",
            "Test Accuracy: 84.30%\n",
            "--------------------------------------------------\n",
            "Early stopping triggered\n"
          ]
        },
        {
          "data": {
            "image/png": "[encoded data removed]",
            "text/plain": [
              "<Figure size 1000x600 with 1 Axes>"
            ]
          },
          "metadata": {},
          "output_type": "display_data"
        },
        {
          "data": {
            "image/png": "[encoded data removed]",
            "text/plain": [
              "<Figure size 1500x500 with 1 Axes>"
            ]
          },
          "metadata": {},
          "output_type": "display_data"
        }
      ],
      "source": [
        "# Train lstm for more epochs\n",
        "lstm_model, lstm_train_losses, lstm_test_losses, lstm_train_accuracies, lstm_test_accuracies = train_model(lstm_model, X_train, y_train, X_test, y_test, num_epochs=10, verbose=True)\n",
        "# Plot training history\n",
        "plot_training_history(lstm_train_losses, lstm_test_losses, \"LSTM\")"
      ]
    },
    {
      "cell_type": "markdown",
      "metadata": {},
      "source": [
        "Now we reached the maximum potential of this model in the epoch=3, in that point training loss kept decreasing, but validation loss started to increase. We saved the model in that point."
      ]
    },
    {
      "cell_type": "markdown",
      "metadata": {},
      "source": [
        "## SentimentGRU\n",
        "\n",
        "The SentimentGRU trained as an example uses these parameters:\n",
        "\n",
        "- `input_size` = 100\n",
        "- `hidden_size` = 64\n",
        "- `num_layers` = 1\n",
        "- `dropout_rate` = 0.5\n",
        "- `bidirectional` = True"
      ]
    },
    {
      "cell_type": "code",
      "execution_count": 77,
      "metadata": {},
      "outputs": [
        {
          "name": "stdout",
          "output_type": "stream",
          "text": [
            "The model has 72,065 trainable parameters\n",
            "\n",
            "Model Architecture:\n",
            "SentimentGRU(\n",
            "  (gru): GRU(100, 64, batch_first=True, bidirectional=True)\n",
            "  (fc): Sequential(\n",
            "    (0): Linear(in_features=128, out_features=64, bias=True)\n",
            "    (1): ReLU()\n",
            "    (2): Dropout(p=0.5, inplace=False)\n",
            "  )\n",
            "  (output_layer): Sequential(\n",
            "    (0): Linear(in_features=64, out_features=1, bias=True)\n",
            "    (1): Sigmoid()\n",
            "  )\n",
            ")\n"
          ]
        }
      ],
      "source": [
        "print(f'The model has {count_parameters(gru_model):,} trainable parameters')\n",
        "\n",
        "# Print model architecture\n",
        "print('\\nModel Architecture:')\n",
        "print(gru_model)"
      ]
    },
    {
      "cell_type": "markdown",
      "metadata": {},
      "source": [
        "We can see a decrease in parameters compared to SentimentLSTM, because the previous model has 2 layers and this one has 1. Also, GRU tend to have less parameters than LSTM."
      ]
    },
    {
      "cell_type": "code",
      "execution_count": 78,
      "metadata": {},
      "outputs": [
        {
          "data": {
            "image/png": "[encoded data removed]",
            "text/plain": [
              "<Figure size 1500x500 with 1 Axes>"
            ]
          },
          "metadata": {},
          "output_type": "display_data"
        }
      ],
      "source": [
        "# Plot training history\n",
        "plot_training_history(gru_train_losses, gru_test_losses, \"GRU\")"
      ]
    },
    {
      "cell_type": "markdown",
      "metadata": {},
      "source": [
        "For this case, we reached the maximum potential of this model in the epoch=4, where validation loss started to increase, so no further training is needed, as the model has been saved in that point."
      ]
    },
    {
      "cell_type": "markdown",
      "metadata": {},
      "source": [
        "## SentimentRNN\n",
        "\n",
        "The best model found in the grid search uses these parameters:\n",
        "\n",
        "- `input_size` = 100\n",
        "- `hidden_size` = 128\n",
        "- `num_layers` = 1\n",
        "- `dropout_rate` = 0.2\n",
        "- `rnn_type` = 'gru'\n",
        "- `bidirectional` = False"
      ]
    },
    {
      "cell_type": "code",
      "execution_count": 79,
      "metadata": {},
      "outputs": [
        {
          "name": "stdout",
          "output_type": "stream",
          "text": [
            "The model has 104,961 trainable parameters\n",
            "\n",
            "Model Architecture:\n",
            "SentimentRNN(\n",
            "  (rnn): GRU(100, 128, batch_first=True)\n",
            "  (fc): Sequential(\n",
            "    (0): Linear(in_features=128, out_features=128, bias=True)\n",
            "    (1): ReLU()\n",
            "    (2): Dropout(p=0.2, inplace=False)\n",
            "  )\n",
            "  (output_layer): Sequential(\n",
            "    (0): Linear(in_features=128, out_features=1, bias=True)\n",
            "    (1): Sigmoid()\n",
            "  )\n",
            ")\n"
          ]
        }
      ],
      "source": [
        "print(f'The model has {count_parameters(best_model):,} trainable parameters')\n",
        "\n",
        "# Print model architecture\n",
        "print('\\nModel Architecture:')\n",
        "print(best_model)"
      ]
    },
    {
      "cell_type": "markdown",
      "metadata": {},
      "source": [
        "This model has more parameters than the previous one because the hidden size is higher."
      ]
    },
    {
      "cell_type": "markdown",
      "metadata": {},
      "source": [
        "For this model we forgot to save the training history, so lets train it for more epochs and see if it overfits."
      ]
    },
    {
      "cell_type": "code",
      "execution_count": 80,
      "metadata": {},
      "outputs": [
        {
          "name": "stdout",
          "output_type": "stream",
          "text": [
            "Epoch [1/10]\n",
            "Training Loss: 0.3081\n",
            "Test Loss: 0.3655\n",
            "Training Accuracy: 87.44%\n",
            "Test Accuracy: 85.35%\n",
            "--------------------------------------------------\n",
            "Epoch [2/10]\n",
            "Training Loss: 0.2757\n",
            "Test Loss: 0.3987\n",
            "Training Accuracy: 88.54%\n",
            "Test Accuracy: 84.50%\n",
            "--------------------------------------------------\n",
            "Epoch [3/10]\n",
            "Training Loss: 0.2442\n",
            "Test Loss: 0.4415\n",
            "Training Accuracy: 90.21%\n",
            "Test Accuracy: 84.95%\n",
            "--------------------------------------------------\n",
            "Epoch [4/10]\n",
            "Training Loss: 0.2091\n",
            "Test Loss: 0.3809\n",
            "Training Accuracy: 91.59%\n",
            "Test Accuracy: 85.15%\n",
            "--------------------------------------------------\n"
          ]
        }
      ],
      "source": [
        "# Train best model for more epochs\n",
        "best_model, best_train_losses, best_test_losses, best_train_accuracies, best_test_accuracies = train_model(best_model, X_train, y_train, X_test, y_test, num_epochs=10, verbose=True)"
      ]
    },
    {
      "cell_type": "markdown",
      "metadata": {},
      "source": [
        "As depicted in the following plot, the added epochs did not improve the model, as the validation loss started to increase right at the beginning of the training."
      ]
    },
    {
      "cell_type": "code",
      "execution_count": null,
      "metadata": {},
      "outputs": [],
      "source": [
        "# Plot training history\n",
        "plot_training_history(best_train_losses, best_test_losses, \"RNN\")"
      ]
    },
    {
      "cell_type": "markdown",
      "metadata": {},
      "source": [
        "Thanks for reading the code, connect with me on [LinkedIn](https://www.linkedin.com/in/alvaro-francisco-gil/) or [GitHub](https://github.com/alvaro-francisco-gil) if you have any questions or comments.\n",
        "\n",
        "*Álvaro Francisco Gil*"
      ]
    }
  ],
  "metadata": {
    "colab": {
      "provenance": []
    },
    "kernelspec": {
      "display_name": "Python 3",
      "name": "python3"
    },
    "language_info": {
      "codemirror_mode": {
        "name": "ipython",
        "version": 3
      },
      "file_extension": ".py",
      "mimetype": "text/x-python",
      "name": "python",
      "nbconvert_exporter": "python",
      "pygments_lexer": "ipython3",
      "version": "3.11.10"
    }
  },
  "nbformat": 4,
  "nbformat_minor": 0
}
